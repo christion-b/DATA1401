{
 "cells": [
  {
   "cell_type": "markdown",
   "metadata": {},
   "source": [
    "## Functions\n",
    "\n",
    "### 1)"
   ]
  },
  {
   "cell_type": "code",
   "execution_count": 24,
   "metadata": {},
   "outputs": [
    {
     "name": "stdout",
     "output_type": "stream",
     "text": [
      "Enter number: 3784427\n"
     ]
    },
    {
     "data": {
      "text/plain": [
       "True"
      ]
     },
     "execution_count": 24,
     "metadata": {},
     "output_type": "execute_result"
    }
   ],
   "source": [
    "def isPrime(n):\n",
    "    if n<2:\n",
    "        return False\n",
    "    else:\n",
    "        for i in range(2,n):\n",
    "            if n%i==0:\n",
    "                return False\n",
    "    return True\n",
    "n=int(input('Enter number: '))\n",
    "isPrime(n)"
   ]
  },
  {
   "cell_type": "markdown",
   "metadata": {},
   "source": [
    "## 2)"
   ]
  },
  {
   "cell_type": "code",
   "execution_count": null,
   "metadata": {},
   "outputs": [],
   "source": [
    "def fibo():\n",
    "\n",
    "    while True:\n",
    "        def fib(n):\n",
    "            if n <= 1:\n",
    "                return n\n",
    "            else:           \n",
    "                return fib(n-1)+fib(n-2)\n",
    "        \n",
    "        n_int = input('Please enter a non-negative integer or type stop: ')\n",
    "        if n_int == \"stop\":\n",
    "            break\n",
    "        elif n_int.isdigit() == False:\n",
    "            print(\"The input argument is not a non-negative integer!\")\n",
    "            continue\n",
    "        else:\n",
    "            n_int = int(n_int);\n",
    "            print( \"fibo({}) = {}\".format(n_int,fib(n_int)) );\n",
    "            continue\n",
    "\n",
    "# Call the function\n",
    "fibo()"
   ]
  }
 ],
 "metadata": {
  "kernelspec": {
   "display_name": "Python 3",
   "language": "python",
   "name": "python3"
  },
  "language_info": {
   "codemirror_mode": {
    "name": "ipython",
    "version": 3
   },
   "file_extension": ".py",
   "mimetype": "text/x-python",
   "name": "python",
   "nbconvert_exporter": "python",
   "pygments_lexer": "ipython3",
   "version": "3.7.1"
  }
 },
 "nbformat": 4,
 "nbformat_minor": 2
}
