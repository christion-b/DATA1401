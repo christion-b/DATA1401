{
 "cells": [
  {
   "cell_type": "markdown",
   "metadata": {},
   "source": [
    "# Modules"
   ]
  },
  {
   "cell_type": "markdown",
   "metadata": {},
   "source": [
    "## Problem 1\n",
    "    \n",
    "    This script is verifed to work in command prompt"
   ]
  },
  {
   "cell_type": "code",
   "execution_count": 1,
   "metadata": {},
   "outputs": [
    {
     "name": "stdout",
     "output_type": "stream",
     "text": [
      "\n",
      "        Please enter only one input argument that is an integer. Example Usage:\n",
      "\n",
      "            ./fib.py 13\n",
      "\n",
      "        \n"
     ]
    }
   ],
   "source": [
    "#!/usr/bin/env python\n",
    "\n",
    "import numpy as _np\n",
    "pi = _np.pi\n",
    "\"\"\"\n",
    "This is the mathemtical number pi.\n",
    "\"\"\"\n",
    "\n",
    "def fibr(n):\n",
    "    \"\"\"\n",
    "    Get the fibonacci sequence for the input number using recursive function calls.\n",
    "    \"\"\"\n",
    "    def fibo(n_int):\n",
    "        if n_int==0: return 0\n",
    "        elif n_int==1: return 1\n",
    "        else:\n",
    "            return fibo(n_int-1) + fibo(n_int-2)\n",
    "\n",
    "    if n=='stop':\n",
    "        return None\n",
    "    elif not str(n).isdigit():    # Make sure n is integer, if not then\n",
    "        print( 'The input argument {} is not a non-negative integer!'.format(n) )    \n",
    "        n = input(\"Please enter an integer: \")  # Note that n is read as string!\n",
    "        return fibr(n)\n",
    "    else:\n",
    "        n=int(n) \n",
    "        print('Fib({}) = {}'.format(n,fibo(n)))\n",
    "        n = input(\"Please enter another integer or type stop: \")  # Note that n is read as string!\n",
    "        return fibr(n)\n",
    "\n",
    "\n",
    "import time as _time\n",
    "import numpy as _np\n",
    "\n",
    "def fibl():\n",
    "    \"\"\"\n",
    "    Get the fibonacci sequence for the input number using loop.\n",
    "    \"\"\"\n",
    "    def fibo(n_int):\n",
    "        if n_int > 1:\n",
    "            FibSeq = _np.zeros(n_int+1)\n",
    "            FibSeq[0] = 0;\n",
    "            FibSeq[1] = 1;\n",
    "            for iseq in range(2,n_int+1):\n",
    "                FibSeq[iseq] = FibSeq[iseq-1] + FibSeq[iseq-2];\n",
    "            fib = FibSeq[n_int]\n",
    "        elif n_int == 1:\n",
    "            fib = 1\n",
    "        else:\n",
    "            fib = 0\n",
    "        return int(fib)\n",
    "\n",
    "    n = input('Please enter a non-negative integer or type stop: ')\n",
    "    if n==\"stop\":\n",
    "        return None\n",
    "    else:\n",
    "        n = int(n);\n",
    "        tstart = _time.process_time()\n",
    "        print( \"fib({}) = {}\".format(n,fibo(n)) );\n",
    "        tend = _time.process_time()\n",
    "        print( \"average runtime: {} seconds\".format(tend-tstart) );\n",
    "        fibl()\n",
    "        return None\n",
    "\n",
    "def _help():\n",
    "    print(\"\"\"\n",
    "        Please enter only one input argument that is an integer. Example Usage:\n",
    "\n",
    "            ./fib.py 13\n",
    "\n",
    "        \"\"\")\n",
    "\n",
    "if __name__ == \"__main__\":\n",
    "    import sys\n",
    "    if len(sys.argv) == 1:\n",
    "        print(\"calling the loop fibl({})\")\n",
    "        fibl()\n",
    "    elif len(sys.argv) == 2:\n",
    "        print(\"calling the recursive fibr({})\".format(sys.argv[1]))\n",
    "        if not sys.argv[1].isdigit():\n",
    "            _help()\n",
    "        else:\n",
    "            fibr(n = int(sys.argv[1]))\n",
    "    else:\n",
    "        _help()"
   ]
  },
  {
   "cell_type": "markdown",
   "metadata": {},
   "source": [
    "## Problem 2\n",
    "    \n",
    "3 methods to generate matrix a:  \n",
    "  2    0    0  \n",
    "  0    2    0  \n",
    "  0    0    2"
   ]
  },
  {
   "cell_type": "code",
   "execution_count": 5,
   "metadata": {},
   "outputs": [
    {
     "data": {
      "text/plain": [
       "array([[2, 0, 0],\n",
       "       [0, 2, 0],\n",
       "       [0, 0, 2]])"
      ]
     },
     "execution_count": 5,
     "metadata": {},
     "output_type": "execute_result"
    }
   ],
   "source": [
    "import numpy as np\n",
    "\n",
    "a = ([2,2,2],\n",
    "    [2,2,2],\n",
    "    [2,2,2])\n",
    "def diagFunction(array):\n",
    "    return np.diag(np.diag(array))\n",
    "diagFunction(a)"
   ]
  },
  {
   "cell_type": "code",
   "execution_count": 10,
   "metadata": {},
   "outputs": [
    {
     "ename": "TypeError",
     "evalue": "'list' object cannot be interpreted as an integer",
     "output_type": "error",
     "traceback": [
      "\u001b[1;31m---------------------------------------------------------------------------\u001b[0m",
      "\u001b[1;31mTypeError\u001b[0m                                 Traceback (most recent call last)",
      "\u001b[1;32m<ipython-input-10-7b6513ba1e57>\u001b[0m in \u001b[0;36m<module>\u001b[1;34m\u001b[0m\n\u001b[0;32m      5\u001b[0m \u001b[1;32mdef\u001b[0m \u001b[0mzerosFunction\u001b[0m\u001b[1;33m(\u001b[0m\u001b[0marray\u001b[0m\u001b[1;33m)\u001b[0m\u001b[1;33m:\u001b[0m\u001b[1;33m\u001b[0m\u001b[1;33m\u001b[0m\u001b[0m\n\u001b[0;32m      6\u001b[0m     \u001b[1;32mreturn\u001b[0m \u001b[0mnp\u001b[0m\u001b[1;33m.\u001b[0m\u001b[0mzeros\u001b[0m\u001b[1;33m(\u001b[0m\u001b[0marray\u001b[0m\u001b[1;33m)\u001b[0m\u001b[1;33m\u001b[0m\u001b[1;33m\u001b[0m\u001b[0m\n\u001b[1;32m----> 7\u001b[1;33m \u001b[0mzerosFunction\u001b[0m\u001b[1;33m(\u001b[0m\u001b[0ma\u001b[0m\u001b[1;33m)\u001b[0m\u001b[1;33m\u001b[0m\u001b[1;33m\u001b[0m\u001b[0m\n\u001b[0m",
      "\u001b[1;32m<ipython-input-10-7b6513ba1e57>\u001b[0m in \u001b[0;36mzerosFunction\u001b[1;34m(array)\u001b[0m\n\u001b[0;32m      4\u001b[0m     [2,2,2])\n\u001b[0;32m      5\u001b[0m \u001b[1;32mdef\u001b[0m \u001b[0mzerosFunction\u001b[0m\u001b[1;33m(\u001b[0m\u001b[0marray\u001b[0m\u001b[1;33m)\u001b[0m\u001b[1;33m:\u001b[0m\u001b[1;33m\u001b[0m\u001b[1;33m\u001b[0m\u001b[0m\n\u001b[1;32m----> 6\u001b[1;33m     \u001b[1;32mreturn\u001b[0m \u001b[0mnp\u001b[0m\u001b[1;33m.\u001b[0m\u001b[0mzeros\u001b[0m\u001b[1;33m(\u001b[0m\u001b[0marray\u001b[0m\u001b[1;33m)\u001b[0m\u001b[1;33m\u001b[0m\u001b[1;33m\u001b[0m\u001b[0m\n\u001b[0m\u001b[0;32m      7\u001b[0m \u001b[0mzerosFunction\u001b[0m\u001b[1;33m(\u001b[0m\u001b[0ma\u001b[0m\u001b[1;33m)\u001b[0m\u001b[1;33m\u001b[0m\u001b[1;33m\u001b[0m\u001b[0m\n",
      "\u001b[1;31mTypeError\u001b[0m: 'list' object cannot be interpreted as an integer"
     ]
    }
   ],
   "source": [
    "import numpy as np\n",
    "a = ([2,2,2],\n",
    "    [2,2,2],\n",
    "    [2,2,2])\n",
    "def zerosFunction(array):\n",
    "    return np.zeros(array)\n",
    "zerosFunction(a)"
   ]
  },
  {
   "cell_type": "code",
   "execution_count": 88,
   "metadata": {},
   "outputs": [
    {
     "data": {
      "text/plain": [
       "array([[1., 0., 0.],\n",
       "       [0., 1., 0.],\n",
       "       [0., 0., 1.]])"
      ]
     },
     "execution_count": 88,
     "metadata": {},
     "output_type": "execute_result"
    }
   ],
   "source": [
    "import numpy as np\n",
    "\n",
    "def eyeFunction(array):\n",
    "    return np.eye(array)\n",
    "eyeFunction(3)"
   ]
  },
  {
   "cell_type": "markdown",
   "metadata": {},
   "source": [
    "# Data Transfer"
   ]
  },
  {
   "cell_type": "markdown",
   "metadata": {},
   "source": [
    "## Problem 3"
   ]
  },
  {
   "cell_type": "code",
   "execution_count": null,
   "metadata": {},
   "outputs": [],
   "source": [
    "#!/usr/bin/env python\n",
    "import sys\n",
    "def sumList():\n",
    "    num=input()\n",
    "    add='+'.join(num)\n",
    "    return print(eval(add))\n",
    "if __name__ =='__main__': sumList()"
   ]
  },
  {
   "cell_type": "markdown",
   "metadata": {},
   "source": [
    "## Problem 4"
   ]
  },
  {
   "cell_type": "code",
   "execution_count": null,
   "metadata": {},
   "outputs": [],
   "source": [
    "#!/usr/bin/env python\n",
    "import sys\n",
    "def sumScript():\n",
    "    args = [float(x) for x in sys.argv[1:]]\n",
    "    return print('The sum of',args,'is',sum(args))\n",
    "if __name__ =='__main__': sumScript()"
   ]
  },
  {
   "cell_type": "markdown",
   "metadata": {},
   "source": [
    "## Problem 5"
   ]
  },
  {
   "cell_type": "code",
   "execution_count": null,
   "metadata": {},
   "outputs": [],
   "source": [
    "import sys\n",
    "\n",
    "def _help():\n",
    "    print('''This script calaculates the height traveled by a projectile in y-direction under free fall \n",
    "            or with initial velcotiy.\n",
    "                 Example:\n",
    "                        python getheight.py unit SI initHeight 0 initVelocity 0 time 3 gravityConstant -10''')\n",
    "def __raise():\n",
    "    raise Exception('''You have entered an innappropriate value for input value {}.\n",
    "Time must be a float.''').format(sys.argv[i])\n",
    "    _help()\n",
    "    sys.exit(0) #when you return 0 to the shell/OS, the program exited successfully. 1 returns fatal error\n",
    "    \n",
    "option = dict()\n",
    "\n",
    "for i in range(1, len(sys.argv[1:])+1, 2):\n",
    "    if 'help' in sys.argv[i]: \n",
    "        _help()\n",
    "        sys.exit(0)\n",
    "    elif sys.argv[i] != \"unit\":\n",
    "         try:\n",
    "                option[sys.argv[i]] = float(sys.argv[i+1])\n",
    "         except: \n",
    "            from warnings import warn\n",
    "            warn(\"The input value that you entered is possibly incorrect.\\n\"+ \n",
    "                 \"This script will assume a default value for this option {}\\n\\n\".format(sys.argv[i]))\n",
    "            pass\n",
    "    else:\n",
    "        option[sys.argv[i]] = sys.argv[i+1]\n",
    "\n",
    "# setup default values\n",
    "if \"initHeight\" not in option.keys(): option[\"initHeight\"] = 0\n",
    "if \"initVelocity\" not in option.keys(): option[\"initVelocity\"] = 0\n",
    "if \"unit\" not in option.keys(): option[\"unit\"] = \"SI\"\n",
    "if \"gravityConstant\" not in option.keys(): option[\"gravityConstant\"] = -10\n",
    "\n",
    "#unit  = \"SI\"\n",
    "#initHeight = 0\n",
    "#initVelocity = 0\n",
    "#time = 3\n",
    "#gravityConstant = -1.62\n",
    "\n",
    "finalHeight = option[\"initHeight\"] \\\n",
    "\t\t\t+ option[\"initVelocity\"] * option[\"time\"] \\\n",
    "\t\t\t+ 0.5 * option[\"gravityConstant\"] * option[\"time\"]**2\n",
    "print(\"Final Height = {} in {} units\".format(finalHeight,option[\"unit\"]))"
   ]
  },
  {
   "cell_type": "markdown",
   "metadata": {},
   "source": [
    "## Problem 6"
   ]
  },
  {
   "cell_type": "code",
   "execution_count": null,
   "metadata": {},
   "outputs": [],
   "source": [
    "#dictionary\n",
    "aminoAcidExposure={'A': 129.0, 'R': 274.0, 'N': 195.0,'D': 193.0,'C': 167.0,\n",
    "                   'Q': 225.0,'E': 223.0,'G': 104.0,'H': 224.0,'I': 197.0,'L': 201.0,\n",
    "                   'K': 236.0,'M': 224.0,'F': 240.0,'P': 159.0,'S': 155.0,'T': 172.0,'W': 285.0,'Y': 263.0,'V': 174.0}\n",
    "\n",
    "def function(inFile,outFile):"
   ]
  },
  {
   "cell_type": "code",
   "execution_count": null,
   "metadata": {},
   "outputs": [],
   "source": []
  }
 ],
 "metadata": {
  "kernelspec": {
   "display_name": "Python 3",
   "language": "python",
   "name": "python3"
  },
  "language_info": {
   "codemirror_mode": {
    "name": "ipython",
    "version": 3
   },
   "file_extension": ".py",
   "mimetype": "text/x-python",
   "name": "python",
   "nbconvert_exporter": "python",
   "pygments_lexer": "ipython3",
   "version": "3.7.1"
  }
 },
 "nbformat": 4,
 "nbformat_minor": 2
}
