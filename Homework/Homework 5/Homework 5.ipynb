{
 "cells": [
  {
   "cell_type": "markdown",
   "metadata": {},
   "source": [
    "## Problem 1"
   ]
  },
  {
   "cell_type": "code",
   "execution_count": 1,
   "metadata": {},
   "outputs": [],
   "source": [
    "#!/usr/bin/env python\n",
    "\n",
    "import numpy as _np\n",
    "pi = _np.pi\n",
    "\"\"\"\n",
    "This is the mathemtical number pi.\n",
    "\"\"\"\n",
    "def fibr(n):\n",
    "    \"\"\"\n",
    "    Get the fibonacci sequence for the input number using recursive function calls.\n",
    "    \"\"\"\n",
    "    def fibo(n_int):\n",
    "        if n_int==0: return 0\n",
    "        elif n_int==1: return 1\n",
    "        else:\n",
    "            return fibo(n_int-1) + fibo(n_int-2)\n",
    "\n",
    "    if n=='stop':\n",
    "        return None\n",
    "    elif not str(n).isdigit():    # Make sure n is integer, if not then\n",
    "        print( 'The input argument {} is not a non-negative integer!'.format(n) )    \n",
    "        n = input(\"Please enter an integer: \")  # Note that n is read as string!\n",
    "        return fibr(n)\n",
    "    else:\n",
    "        n=int(n) \n",
    "        print('Fib({}) = {}'.format(n,fibo(n)))\n",
    "        n = input(\"Please enter another integer or type stop: \")  # Note that n is read as string!\n",
    "        return fibr(n)\n"
   ]
  },
  {
   "cell_type": "code",
   "execution_count": null,
   "metadata": {},
   "outputs": [],
   "source": []
  }
 ],
 "metadata": {
  "kernelspec": {
   "display_name": "Python 3",
   "language": "python",
   "name": "python3"
  },
  "language_info": {
   "codemirror_mode": {
    "name": "ipython",
    "version": 3
   },
   "file_extension": ".py",
   "mimetype": "text/x-python",
   "name": "python",
   "nbconvert_exporter": "python",
   "pygments_lexer": "ipython3",
   "version": "3.7.1"
  }
 },
 "nbformat": 4,
 "nbformat_minor": 2
}
