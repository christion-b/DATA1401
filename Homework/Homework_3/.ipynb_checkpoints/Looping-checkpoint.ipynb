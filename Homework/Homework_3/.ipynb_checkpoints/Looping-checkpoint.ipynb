{
 "cells": [
  {
   "cell_type": "markdown",
   "metadata": {},
   "source": [
    "## Problem 2"
   ]
  },
  {
   "cell_type": "code",
   "execution_count": 2,
   "metadata": {},
   "outputs": [
    {
     "name": "stdout",
     "output_type": "stream",
     "text": [
      "    C     F\n",
      "  -20  -4.0\n",
      "  -15   5.0\n",
      "  -10  14.0\n",
      "   -5  23.0\n",
      "    0  32.0\n",
      "    5  41.0\n",
      "   10  50.0\n",
      "   15  59.0\n",
      "   20  68.0\n",
      "   25  77.0\n",
      "   30  86.0\n",
      "   35  95.0\n",
      "   40 104.0\n"
     ]
    }
   ],
   "source": [
    "Cdegrees = [-20, -15, -10, -5, 0, 5, 10, 15, 20, 25, 30, 35, 40]\n",
    "print ('    C     F')\n",
    "for C in Cdegrees:\n",
    "    F = (9.0/5)*C + 32\n",
    "    print ('%5d %5.1f' % (C, F))"
   ]
  },
  {
   "cell_type": "code",
   "execution_count": 11,
   "metadata": {},
   "outputs": [
    {
     "name": "stdout",
     "output_type": "stream",
     "text": [
      "    C     F\n"
     ]
    },
    {
     "ename": "TypeError",
     "evalue": "can't multiply sequence by non-int of type 'float'",
     "output_type": "error",
     "traceback": [
      "\u001b[1;31m---------------------------------------------------------------------------\u001b[0m",
      "\u001b[1;31mTypeError\u001b[0m                                 Traceback (most recent call last)",
      "\u001b[1;32m<ipython-input-11-8eecbc95af6a>\u001b[0m in \u001b[0;36m<module>\u001b[1;34m\u001b[0m\n\u001b[0;32m      5\u001b[0m     \u001b[0mi\u001b[0m\u001b[1;33m=\u001b[0m\u001b[1;36m0\u001b[0m\u001b[1;33m\u001b[0m\u001b[1;33m\u001b[0m\u001b[0m\n\u001b[0;32m      6\u001b[0m     \u001b[0mcel\u001b[0m\u001b[1;33m=\u001b[0m\u001b[0mCdegrees\u001b[0m\u001b[1;33m[\u001b[0m\u001b[0mi\u001b[0m\u001b[1;33m:\u001b[0m\u001b[1;33m]\u001b[0m\u001b[1;33m\u001b[0m\u001b[1;33m\u001b[0m\u001b[0m\n\u001b[1;32m----> 7\u001b[1;33m     \u001b[0mF\u001b[0m \u001b[1;33m=\u001b[0m \u001b[1;33m(\u001b[0m\u001b[1;36m9.0\u001b[0m\u001b[1;33m/\u001b[0m\u001b[1;36m5\u001b[0m\u001b[1;33m)\u001b[0m\u001b[1;33m*\u001b[0m\u001b[0mcel\u001b[0m\u001b[1;33m+\u001b[0m \u001b[1;36m32\u001b[0m\u001b[1;33m\u001b[0m\u001b[1;33m\u001b[0m\u001b[0m\n\u001b[0m\u001b[0;32m      8\u001b[0m     \u001b[0mprint\u001b[0m \u001b[1;33m(\u001b[0m\u001b[1;34m'%5d %5.1f'\u001b[0m \u001b[1;33m%\u001b[0m \u001b[1;33m(\u001b[0m\u001b[0mC\u001b[0m\u001b[1;33m,\u001b[0m \u001b[0mF\u001b[0m\u001b[1;33m)\u001b[0m\u001b[1;33m)\u001b[0m\u001b[1;33m\u001b[0m\u001b[1;33m\u001b[0m\u001b[0m\n\u001b[0;32m      9\u001b[0m     \u001b[0mC\u001b[0m\u001b[1;33m+=\u001b[0m\u001b[1;36m1\u001b[0m\u001b[1;33m\u001b[0m\u001b[1;33m\u001b[0m\u001b[0m\n",
      "\u001b[1;31mTypeError\u001b[0m: can't multiply sequence by non-int of type 'float'"
     ]
    }
   ],
   "source": [
    "Cdegrees = [-20, -15, -10, -5, 0, 5, 10, 15, 20, 25, 30, 35, 40]\n",
    "print ('    C     F')\n",
    "C=0\n",
    "while C <= len(Cdegrees):\n",
    "    F = (9.0/5)*cel+ 32\n",
    "    print ('%5d %5.1f' % (C, F))\n",
    "    C+=1\n",
    "    i+=1"
   ]
  },
  {
   "cell_type": "markdown",
   "metadata": {},
   "source": [
    "## Problem 3"
   ]
  },
  {
   "cell_type": "code",
   "execution_count": 12,
   "metadata": {},
   "outputs": [
    {
     "name": "stdout",
     "output_type": "stream",
     "text": [
      "[0, 1, 2, 3, 4, 5, 6, 7, 8, 9]\n",
      "n=0, del 5 [0, 1, 2, 3, 4, 6, 7, 8, 9]\n",
      "n=1, del 4 [0, 1, 2, 3, 6, 7, 8, 9]\n",
      "n=2, del 4 [0, 1, 2, 3, 7, 8, 9]\n",
      "n=3, del 3 [0, 1, 2, 7, 8, 9]\n",
      "n=8, del 3 [0, 1, 2, 8, 9]\n"
     ]
    }
   ],
   "source": [
    "numbers = list(range(10))\n",
    "print(numbers)\n",
    "\n",
    "for n in numbers:\n",
    "    i = len(numbers)//2\n",
    "    del numbers[i]\n",
    "    print ('n={}, del {}'.format(n,i), numbers)"
   ]
  },
  {
   "cell_type": "markdown",
   "metadata": {},
   "source": [
    "The behavior might be due to the number at index 'i' is deleted before display."
   ]
  },
  {
   "cell_type": "markdown",
   "metadata": {},
   "source": [
    "## Problem 4"
   ]
  },
  {
   "cell_type": "code",
   "execution_count": 13,
   "metadata": {},
   "outputs": [
    {
     "name": "stdout",
     "output_type": "stream",
     "text": [
      "............... 1.0\n",
      "............... 0.5\n",
      "............... 0.25\n",
      "............... 0.125\n",
      "............... 0.0625\n",
      "............... 0.03125\n",
      "............... 0.015625\n",
      "............... 0.0078125\n",
      "............... 0.00390625\n",
      "............... 0.001953125\n",
      "............... 0.0009765625\n",
      "............... 0.00048828125\n",
      "............... 0.000244140625\n",
      "............... 0.0001220703125\n",
      "............... 6.103515625e-05\n",
      "............... 3.0517578125e-05\n",
      "............... 1.52587890625e-05\n",
      "............... 7.62939453125e-06\n",
      "............... 3.814697265625e-06\n",
      "............... 1.9073486328125e-06\n",
      "............... 9.5367431640625e-07\n",
      "............... 4.76837158203125e-07\n",
      "............... 2.384185791015625e-07\n",
      "............... 1.1920928955078125e-07\n",
      "............... 5.960464477539063e-08\n",
      "............... 2.9802322387695312e-08\n",
      "............... 1.4901161193847656e-08\n",
      "............... 7.450580596923828e-09\n",
      "............... 3.725290298461914e-09\n",
      "............... 1.862645149230957e-09\n",
      "............... 9.313225746154785e-10\n",
      "............... 4.656612873077393e-10\n",
      "............... 2.3283064365386963e-10\n",
      "............... 1.1641532182693481e-10\n",
      "............... 5.820766091346741e-11\n",
      "............... 2.9103830456733704e-11\n",
      "............... 1.4551915228366852e-11\n",
      "............... 7.275957614183426e-12\n",
      "............... 3.637978807091713e-12\n",
      "............... 1.8189894035458565e-12\n",
      "............... 9.094947017729282e-13\n",
      "............... 4.547473508864641e-13\n",
      "............... 2.2737367544323206e-13\n",
      "............... 1.1368683772161603e-13\n",
      "............... 5.684341886080802e-14\n",
      "............... 2.842170943040401e-14\n",
      "............... 1.4210854715202004e-14\n",
      "............... 7.105427357601002e-15\n",
      "............... 3.552713678800501e-15\n",
      "............... 1.7763568394002505e-15\n",
      "............... 8.881784197001252e-16\n",
      "............... 4.440892098500626e-16\n",
      "............... 2.220446049250313e-16\n",
      "final eps: 1.1102230246251565e-16\n"
     ]
    }
   ],
   "source": [
    "eps = 1.0\n",
    "while 1.0 != 1.0 + eps:\n",
    "    print ('...............', eps)\n",
    "    eps /= 2.0\n",
    "print ('final eps:', eps)"
   ]
  },
  {
   "cell_type": "markdown",
   "metadata": {},
   "source": [
    "1.0 != 1.0 + eps can be false because of the floating-point percision limited by the computers operating bit system."
   ]
  },
  {
   "cell_type": "markdown",
   "metadata": {},
   "source": [
    "## Problem 5"
   ]
  },
  {
   "cell_type": "code",
   "execution_count": 17,
   "metadata": {},
   "outputs": [
    {
     "name": "stdout",
     "output_type": "stream",
     "text": [
      "With 1 times sqrt and then 1 times **2, the number 2.0 becomes: 2.0000000000000004\n",
      "With 2 times sqrt and then 2 times **2, the number 2.0 becomes: 1.9999999999999996\n",
      "With 3 times sqrt and then 3 times **2, the number 2.0 becomes: 1.9999999999999996\n",
      "With 4 times sqrt and then 4 times **2, the number 2.0 becomes: 1.9999999999999964\n",
      "With 5 times sqrt and then 5 times **2, the number 2.0 becomes: 1.9999999999999964\n",
      "With 6 times sqrt and then 6 times **2, the number 2.0 becomes: 1.9999999999999964\n",
      "With 7 times sqrt and then 7 times **2, the number 2.0 becomes: 1.9999999999999714\n",
      "With 8 times sqrt and then 8 times **2, the number 2.0 becomes: 2.0000000000000235\n",
      "With 9 times sqrt and then 9 times **2, the number 2.0 becomes: 2.0000000000000235\n",
      "With 10 times sqrt and then 10 times **2, the number 2.0 becomes: 2.0000000000000235\n",
      "With 11 times sqrt and then 11 times **2, the number 2.0 becomes: 2.0000000000000235\n",
      "With 12 times sqrt and then 12 times **2, the number 2.0 becomes: 1.9999999999991336\n",
      "With 13 times sqrt and then 13 times **2, the number 2.0 becomes: 1.9999999999973292\n",
      "With 14 times sqrt and then 14 times **2, the number 2.0 becomes: 1.9999999999973292\n",
      "With 15 times sqrt and then 15 times **2, the number 2.0 becomes: 1.9999999999973292\n",
      "With 16 times sqrt and then 16 times **2, the number 2.0 becomes: 2.0000000000117746\n",
      "With 17 times sqrt and then 17 times **2, the number 2.0 becomes: 2.0000000000408580\n",
      "With 18 times sqrt and then 18 times **2, the number 2.0 becomes: 2.0000000000408580\n",
      "With 19 times sqrt and then 19 times **2, the number 2.0 becomes: 2.0000000001573586\n",
      "With 20 times sqrt and then 20 times **2, the number 2.0 becomes: 2.0000000001573586\n",
      "With 21 times sqrt and then 21 times **2, the number 2.0 becomes: 2.0000000001573586\n",
      "With 22 times sqrt and then 22 times **2, the number 2.0 becomes: 2.0000000010885857\n",
      "With 23 times sqrt and then 23 times **2, the number 2.0 becomes: 2.0000000029511749\n",
      "With 24 times sqrt and then 24 times **2, the number 2.0 becomes: 2.0000000066771721\n",
      "With 25 times sqrt and then 25 times **2, the number 2.0 becomes: 2.0000000066771721\n",
      "With 26 times sqrt and then 26 times **2, the number 2.0 becomes: 1.9999999917774933\n",
      "With 27 times sqrt and then 27 times **2, the number 2.0 becomes: 1.9999999917774933\n",
      "With 28 times sqrt and then 28 times **2, the number 2.0 becomes: 1.9999999917774933\n",
      "With 29 times sqrt and then 29 times **2, the number 2.0 becomes: 1.9999999917774933\n",
      "With 30 times sqrt and then 30 times **2, the number 2.0 becomes: 1.9999999917774933\n",
      "With 31 times sqrt and then 31 times **2, the number 2.0 becomes: 1.9999999917774933\n",
      "With 32 times sqrt and then 32 times **2, the number 2.0 becomes: 1.9999990380770896\n",
      "With 33 times sqrt and then 33 times **2, the number 2.0 becomes: 1.9999971307544144\n",
      "With 34 times sqrt and then 34 times **2, the number 2.0 becomes: 1.9999971307544144\n",
      "With 35 times sqrt and then 35 times **2, the number 2.0 becomes: 1.9999971307544144\n",
      "With 36 times sqrt and then 36 times **2, the number 2.0 becomes: 1.9999971307544144\n",
      "With 37 times sqrt and then 37 times **2, the number 2.0 becomes: 1.9999971307544144\n",
      "With 38 times sqrt and then 38 times **2, the number 2.0 becomes: 1.9999360966436217\n",
      "With 39 times sqrt and then 39 times **2, the number 2.0 becomes: 1.9999360966436217\n",
      "With 40 times sqrt and then 40 times **2, the number 2.0 becomes: 1.9999360966436217\n",
      "With 41 times sqrt and then 41 times **2, the number 2.0 becomes: 1.9994478907329654\n",
      "With 42 times sqrt and then 42 times **2, the number 2.0 becomes: 1.9984718365144798\n",
      "With 43 times sqrt and then 43 times **2, the number 2.0 becomes: 1.9965211562778555\n",
      "With 44 times sqrt and then 44 times **2, the number 2.0 becomes: 1.9965211562778555\n",
      "With 45 times sqrt and then 45 times **2, the number 2.0 becomes: 1.9887374575497223\n",
      "With 46 times sqrt and then 46 times **2, the number 2.0 becomes: 1.9887374575497223\n",
      "With 47 times sqrt and then 47 times **2, the number 2.0 becomes: 1.9887374575497223\n",
      "With 48 times sqrt and then 48 times **2, the number 2.0 becomes: 1.9887374575497223\n",
      "With 49 times sqrt and then 49 times **2, the number 2.0 becomes: 1.8682459487159784\n",
      "With 50 times sqrt and then 50 times **2, the number 2.0 becomes: 1.6487212645509468\n",
      "With 51 times sqrt and then 51 times **2, the number 2.0 becomes: 1.6487212645509468\n",
      "With 52 times sqrt and then 52 times **2, the number 2.0 becomes: 1.0000000000000000\n",
      "With 53 times sqrt and then 53 times **2, the number 2.0 becomes: 1.0000000000000000\n",
      "With 54 times sqrt and then 54 times **2, the number 2.0 becomes: 1.0000000000000000\n",
      "With 55 times sqrt and then 55 times **2, the number 2.0 becomes: 1.0000000000000000\n",
      "With 56 times sqrt and then 56 times **2, the number 2.0 becomes: 1.0000000000000000\n",
      "With 57 times sqrt and then 57 times **2, the number 2.0 becomes: 1.0000000000000000\n",
      "With 58 times sqrt and then 58 times **2, the number 2.0 becomes: 1.0000000000000000\n",
      "With 59 times sqrt and then 59 times **2, the number 2.0 becomes: 1.0000000000000000\n"
     ]
    }
   ],
   "source": [
    "from math import sqrt\n",
    "for n in range(1, 60):\n",
    "    r_org = 2.0\n",
    "    r = r_org\n",
    "    for i in range(n):\n",
    "        r = sqrt(r)\n",
    "    for i in range(n):\n",
    "        r = r ** 2\n",
    "    print ('With {} times sqrt and then {} times **2, the number {} becomes: {:.16f}'.format(n,n,r_org,r))"
   ]
  },
  {
   "cell_type": "markdown",
   "metadata": {},
   "source": [
    "You dont recover the original value because of the 16-point percision rounding. Over time this rounding drastically alters any values that rely on it."
   ]
  },
  {
   "cell_type": "markdown",
   "metadata": {},
   "source": [
    "This block of code take the square root fo a number then multiplies that number by a factor of ^2."
   ]
  },
  {
   "cell_type": "markdown",
   "metadata": {},
   "source": [
    "## Problem 6"
   ]
  },
  {
   "cell_type": "code",
   "execution_count": 40,
   "metadata": {},
   "outputs": [
    {
     "name": "stdout",
     "output_type": "stream",
     "text": [
      "average runtime:  0.0\n"
     ]
    }
   ],
   "source": [
    "from time import process_time\n",
    "def fib(n):\n",
    "    def getFib(n):\n",
    "        startTime=process_time()\n",
    "        if n < 0:\n",
    "            print(\"Invalid input\")\n",
    "        elif n==0:\n",
    "            return 0\n",
    "        elif n==1 or n==2:\n",
    "            return 1\n",
    "        else:\n",
    "            fib(n-1) + fib(n-2)\n",
    "            endTime=process_time()\n",
    "            print('average runtime: ', endTime-startTime)\n",
    "    return getFib(n)\n",
    "fib(3)"
   ]
  },
  {
   "cell_type": "markdown",
   "metadata": {},
   "source": [
    "## Problem 7"
   ]
  },
  {
   "cell_type": "code",
   "execution_count": 60,
   "metadata": {},
   "outputs": [
    {
     "name": "stdout",
     "output_type": "stream",
     "text": [
      "['a', 'b', 'c']\n",
      "['d', 'e', 'f']\n",
      "['g', 'h']\n"
     ]
    }
   ],
   "source": [
    "q = [['a', 'b', 'c'], ['d', 'e', 'f'], ['g', 'h']]\n",
    "for i in range (len (q)):\n",
    "    print((q[i]))"
   ]
  },
  {
   "cell_type": "code",
   "execution_count": null,
   "metadata": {},
   "outputs": [],
   "source": []
  }
 ],
 "metadata": {
  "kernelspec": {
   "display_name": "Python 3",
   "language": "python",
   "name": "python3"
  },
  "language_info": {
   "codemirror_mode": {
    "name": "ipython",
    "version": 3
   },
   "file_extension": ".py",
   "mimetype": "text/x-python",
   "name": "python",
   "nbconvert_exporter": "python",
   "pygments_lexer": "ipython3",
   "version": "3.7.1"
  }
 },
 "nbformat": 4,
 "nbformat_minor": 2
}
