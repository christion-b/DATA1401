{
 "cells": [
  {
   "cell_type": "markdown",
   "metadata": {},
   "source": [
    "## Homework Help"
   ]
  },
  {
   "cell_type": "markdown",
   "metadata": {},
   "source": [
    "#### Command line summation"
   ]
  },
  {
   "cell_type": "code",
   "execution_count": 28,
   "metadata": {},
   "outputs": [
    {
     "data": {
      "text/plain": [
       "50"
      ]
     },
     "execution_count": 28,
     "metadata": {},
     "output_type": "execute_result"
    }
   ],
   "source": [
    "b = ['5','45']\n",
    "def sumList(list):\n",
    "    add='+'.join(list)\n",
    "    return eval(add)\n",
    "sumList(b)"
   ]
  },
  {
   "cell_type": "markdown",
   "metadata": {},
   "source": [
    "#### Parsing amino acid"
   ]
  },
  {
   "cell_type": "code",
   "execution_count": 32,
   "metadata": {},
   "outputs": [],
   "source": [
    "data=[[1,2,3],[-565,-457]]\n",
    "with open('formatted_output.txt','w') as outfile:\n",
    "    #format here\n",
    "    for row in data:\n",
    "        #loop over columns\n",
    "        for col in row:\n",
    "            outfile.write(str(col)+ ', ')\n",
    "        outfile.write('\\n')"
   ]
  },
  {
   "cell_type": "code",
   "execution_count": 33,
   "metadata": {},
   "outputs": [],
   "source": [
    "data=[[1,2,3],[-565,-457]]\n",
    "with open('formatted_output2.txt','w') as outfile:\n",
    "    #format here\n",
    "    for row in data:\n",
    "        #loop over columns\n",
    "        for col in row:\n",
    "            #14 char bits, 8 digits of percision with float format\n",
    "            outfile.write('{:14.8f}'.format(col,'christion'))\n",
    "        outfile.write('\\n')"
   ]
  },
  {
   "cell_type": "code",
   "execution_count": null,
   "metadata": {},
   "outputs": [],
   "source": [
    "#dictionary\n",
    "aminoAcidArea={'A': 129.0\n",
    "'R': 274.0\n",
    "'N': 195.0\n",
    "'D': 193.0\n",
    "'C': 167.0\n",
    "'Q': 225.0\n",
    "'E': 223.0\n",
    "'G': 104.0\n",
    "'H': 224.0\n",
    "'I': 197.0\n",
    "'L': 201.0\n",
    "'K': 236.0\n",
    "'M': 224.0\n",
    "'F': 240.0\n",
    "'P': 159.0\n",
    "'S': 155.0\n",
    "'T': 172.0\n",
    "'W': 285.0\n",
    "'Y': 263.0\n",
    "'V': 174.0}\n",
    "\n"
   ]
  }
 ],
 "metadata": {
  "kernelspec": {
   "display_name": "Python 3",
   "language": "python",
   "name": "python3"
  },
  "language_info": {
   "codemirror_mode": {
    "name": "ipython",
    "version": 3
   },
   "file_extension": ".py",
   "mimetype": "text/x-python",
   "name": "python",
   "nbconvert_exporter": "python",
   "pygments_lexer": "ipython3",
   "version": "3.7.1"
  }
 },
 "nbformat": 4,
 "nbformat_minor": 2
}
