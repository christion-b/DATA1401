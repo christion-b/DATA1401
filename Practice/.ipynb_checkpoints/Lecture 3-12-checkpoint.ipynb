{
 "cells": [
  {
   "cell_type": "markdown",
   "metadata": {},
   "source": [
    "# Functions\n",
    "\n",
    "### Declare Function:\n",
    "**def function(): #code here**"
   ]
  },
  {
   "cell_type": "code",
   "execution_count": 8,
   "metadata": {},
   "outputs": [],
   "source": [
    "def getY(x): return x**2 + 1\n",
    "def getZ(x): return 5.5 * x**3 + 1\n",
    "\n",
    "def getSlope(getFunc, x0, dx = 1.e-6):\n",
    "    \"\"\"This returns the slope of the tangent line to the function at x0\"\"\"\n",
    "    return (getFunc(x0 + dx / 2) - getFunc(x0 - dx / 2)) / dx"
   ]
  },
  {
   "cell_type": "code",
   "execution_count": 9,
   "metadata": {},
   "outputs": [
    {
     "data": {
      "text/plain": [
       "1.000000000139778"
      ]
     },
     "execution_count": 9,
     "metadata": {},
     "output_type": "execute_result"
    }
   ],
   "source": [
    "getSlope(getY,x0=0.5)"
   ]
  },
  {
   "cell_type": "markdown",
   "metadata": {},
   "source": [
    "You can define a short function as lambda, you can actually define it within.  \n",
    "For Example,"
   ]
  },
  {
   "cell_type": "code",
   "execution_count": 11,
   "metadata": {},
   "outputs": [],
   "source": [
    "#def getY(x): return x**2 + 1\n",
    "def getZ(x): return 5.5 * x**3 + 1\n",
    "\n",
    "def getSlope(getFunc, x0, dx = 1.e-6):\n",
    "    \"\"\"This returns the slope of the tangent line to the function at x0\"\"\"\n",
    "    return (getFunc(x0 + dx / 2) - getFunc(x0 - dx / 2)) / dx"
   ]
  },
  {
   "cell_type": "code",
   "execution_count": 20,
   "metadata": {},
   "outputs": [
    {
     "ename": "SyntaxError",
     "evalue": "invalid syntax (<ipython-input-20-1026dd25384a>, line 1)",
     "output_type": "error",
     "traceback": [
      "\u001b[1;36m  File \u001b[1;32m\"<ipython-input-20-1026dd25384a>\"\u001b[1;36m, line \u001b[1;32m1\u001b[0m\n\u001b[1;33m    getSlope(lambda: return (x ** 2 + 1), x0 = 0.5)\u001b[0m\n\u001b[1;37m                          ^\u001b[0m\n\u001b[1;31mSyntaxError\u001b[0m\u001b[1;31m:\u001b[0m invalid syntax\n"
     ]
    }
   ],
   "source": [
    "getSlope(lambda: return (x ** 2 + 1), x0 = 0.5)"
   ]
  },
  {
   "cell_type": "markdown",
   "metadata": {},
   "source": [
    "#### Running the globals() function will return all accessable variables within the program."
   ]
  },
  {
   "cell_type": "code",
   "execution_count": 22,
   "metadata": {},
   "outputs": [
    {
     "data": {
      "text/plain": [
       "{'__name__': '__main__',\n",
       " '__doc__': 'Automatically created module for IPython interactive environment',\n",
       " '__package__': None,\n",
       " '__loader__': None,\n",
       " '__spec__': None,\n",
       " '__builtin__': <module 'builtins' (built-in)>,\n",
       " '__builtins__': <module 'builtins' (built-in)>,\n",
       " '_ih': ['',\n",
       "  'def getY(x): return 1.9*x**2+x+1\\ndef getX(y): return 5.5*x**3+1\\n\\ndef getSlope(getFunc, x0, dx=1.e-6):\\n    \"\"\"This returns the slope of the tangent line to the function at x0\"\"\"\\n    return(getFunc(x0)+dx/2)-getFunc(x0-dx/2))/dx',\n",
       "  'def getY(x): return 1.9*x**2+x+1\\ndef getX(y): return 5.5*x**3+1\\n\\ndef getSlope(getFunc, x0, dx=1.e-6):\\n    \"\"\"This returns the slope of the tangent line to the function at x0\"\"\"\\n    return(getFunc(x0+dx/2)-getFunc(x0-dx/2))/dx',\n",
       "  'getSlope(getY,0)',\n",
       "  'def getY(x): return 1.9*x**2+x+1\\ndef getX(y): return 5.5*x**3+1\\n\\ndef getSlope(getFunc, x0, dx=1.e-6):\\n    \"\"\"This returns the slope of the tangent line to the function at x0\"\"\"\\n    return(getFunc(x0 + dx / 2)-getFunc(x0-dx/2))/dx',\n",
       "  'getSlope(getY,0)',\n",
       "  'getSlope(getY,0)',\n",
       "  'getSlope(getY,x0=0.5)',\n",
       "  'def getY(x): return x**2 + 1\\ndef getZ(x): return 5.5 * x**3 + 1\\n\\ndef getSlope(getFunc, x0, dx = 1.e-6):\\n    \"\"\"This returns the slope of the tangent line to the function at x0\"\"\"\\n    return (getFunc(x0 + dx / 2) - getFunc(x0 - dx / 2)) / dx',\n",
       "  'getSlope(getY,x0=0.5)',\n",
       "  'getSlope(getY)',\n",
       "  '#def getY(x): return x**2 + 1\\ndef getZ(x): return 5.5 * x**3 + 1\\n\\ndef getSlope(getFunc, x0, dx = 1.e-6):\\n    \"\"\"This returns the slope of the tangent line to the function at x0\"\"\"\\n    return (getFunc(x0 + dx / 2) - getFunc(x0 - dx / 2)) / dx',\n",
       "  'getSlope(lambnda:  return x**2 + 1, x0=0.5)',\n",
       "  'getSlope(lambnda: return x**2 + 1, x0=0.5)',\n",
       "  'getSlope(lambda: return x**2 + 1, x0=0.5)',\n",
       "  'getSlope(lambda return x**2 + 1, x0=0.5)',\n",
       "  'getSlope(lambda: return x**2 + 1, x0=0.5)',\n",
       "  'getSlope(lambda: return x**2 + 1, x0=0.5)',\n",
       "  'getSlope(lambda: return x ** 2 + 1, x0=0.5)',\n",
       "  'getSlope(lambda: return x ** 2 + 1, x0 = 0.5)',\n",
       "  'getSlope(lambda: return (x ** 2 + 1), x0 = 0.5)',\n",
       "  'global()',\n",
       "  'globals()'],\n",
       " '_oh': {3: 1.0000000000287557,\n",
       "  5: 1.0000000000287557,\n",
       "  6: 1.0000000000287557,\n",
       "  7: 2.899999999916858,\n",
       "  9: 1.000000000139778},\n",
       " '_dh': ['C:\\\\Users\\\\butte\\\\Git\\\\DATA1401\\\\Practice'],\n",
       " 'In': ['',\n",
       "  'def getY(x): return 1.9*x**2+x+1\\ndef getX(y): return 5.5*x**3+1\\n\\ndef getSlope(getFunc, x0, dx=1.e-6):\\n    \"\"\"This returns the slope of the tangent line to the function at x0\"\"\"\\n    return(getFunc(x0)+dx/2)-getFunc(x0-dx/2))/dx',\n",
       "  'def getY(x): return 1.9*x**2+x+1\\ndef getX(y): return 5.5*x**3+1\\n\\ndef getSlope(getFunc, x0, dx=1.e-6):\\n    \"\"\"This returns the slope of the tangent line to the function at x0\"\"\"\\n    return(getFunc(x0+dx/2)-getFunc(x0-dx/2))/dx',\n",
       "  'getSlope(getY,0)',\n",
       "  'def getY(x): return 1.9*x**2+x+1\\ndef getX(y): return 5.5*x**3+1\\n\\ndef getSlope(getFunc, x0, dx=1.e-6):\\n    \"\"\"This returns the slope of the tangent line to the function at x0\"\"\"\\n    return(getFunc(x0 + dx / 2)-getFunc(x0-dx/2))/dx',\n",
       "  'getSlope(getY,0)',\n",
       "  'getSlope(getY,0)',\n",
       "  'getSlope(getY,x0=0.5)',\n",
       "  'def getY(x): return x**2 + 1\\ndef getZ(x): return 5.5 * x**3 + 1\\n\\ndef getSlope(getFunc, x0, dx = 1.e-6):\\n    \"\"\"This returns the slope of the tangent line to the function at x0\"\"\"\\n    return (getFunc(x0 + dx / 2) - getFunc(x0 - dx / 2)) / dx',\n",
       "  'getSlope(getY,x0=0.5)',\n",
       "  'getSlope(getY)',\n",
       "  '#def getY(x): return x**2 + 1\\ndef getZ(x): return 5.5 * x**3 + 1\\n\\ndef getSlope(getFunc, x0, dx = 1.e-6):\\n    \"\"\"This returns the slope of the tangent line to the function at x0\"\"\"\\n    return (getFunc(x0 + dx / 2) - getFunc(x0 - dx / 2)) / dx',\n",
       "  'getSlope(lambnda:  return x**2 + 1, x0=0.5)',\n",
       "  'getSlope(lambnda: return x**2 + 1, x0=0.5)',\n",
       "  'getSlope(lambda: return x**2 + 1, x0=0.5)',\n",
       "  'getSlope(lambda return x**2 + 1, x0=0.5)',\n",
       "  'getSlope(lambda: return x**2 + 1, x0=0.5)',\n",
       "  'getSlope(lambda: return x**2 + 1, x0=0.5)',\n",
       "  'getSlope(lambda: return x ** 2 + 1, x0=0.5)',\n",
       "  'getSlope(lambda: return x ** 2 + 1, x0 = 0.5)',\n",
       "  'getSlope(lambda: return (x ** 2 + 1), x0 = 0.5)',\n",
       "  'global()',\n",
       "  'globals()'],\n",
       " 'Out': {3: 1.0000000000287557,\n",
       "  5: 1.0000000000287557,\n",
       "  6: 1.0000000000287557,\n",
       "  7: 2.899999999916858,\n",
       "  9: 1.000000000139778},\n",
       " 'get_ipython': <bound method InteractiveShell.get_ipython of <ipykernel.zmqshell.ZMQInteractiveShell object at 0x000001AC890DDC88>>,\n",
       " 'exit': <IPython.core.autocall.ZMQExitAutocall at 0x1ac89c57128>,\n",
       " 'quit': <IPython.core.autocall.ZMQExitAutocall at 0x1ac89c57128>,\n",
       " '_': 1.000000000139778,\n",
       " '__': 2.899999999916858,\n",
       " '___': 1.0000000000287557,\n",
       " '_i': 'global()',\n",
       " '_ii': 'getSlope(lambda: return (x ** 2 + 1), x0 = 0.5)',\n",
       " '_iii': 'getSlope(lambda: return x ** 2 + 1, x0 = 0.5)',\n",
       " '_i1': 'def getY(x): return 1.9*x**2+x+1\\ndef getX(y): return 5.5*x**3+1\\n\\ndef getSlope(getFunc, x0, dx=1.e-6):\\n    \"\"\"This returns the slope of the tangent line to the function at x0\"\"\"\\n    return(getFunc(x0)+dx/2)-getFunc(x0-dx/2))/dx',\n",
       " '_i2': 'def getY(x): return 1.9*x**2+x+1\\ndef getX(y): return 5.5*x**3+1\\n\\ndef getSlope(getFunc, x0, dx=1.e-6):\\n    \"\"\"This returns the slope of the tangent line to the function at x0\"\"\"\\n    return(getFunc(x0+dx/2)-getFunc(x0-dx/2))/dx',\n",
       " 'getY': <function __main__.getY(x)>,\n",
       " 'getX': <function __main__.getX(y)>,\n",
       " 'getSlope': <function __main__.getSlope(getFunc, x0, dx=1e-06)>,\n",
       " '_i3': 'getSlope(getY,0)',\n",
       " '_3': 1.0000000000287557,\n",
       " '_i4': 'def getY(x): return 1.9*x**2+x+1\\ndef getX(y): return 5.5*x**3+1\\n\\ndef getSlope(getFunc, x0, dx=1.e-6):\\n    \"\"\"This returns the slope of the tangent line to the function at x0\"\"\"\\n    return(getFunc(x0 + dx / 2)-getFunc(x0-dx/2))/dx',\n",
       " '_i5': 'getSlope(getY,0)',\n",
       " '_5': 1.0000000000287557,\n",
       " '_i6': 'getSlope(getY,0)',\n",
       " '_6': 1.0000000000287557,\n",
       " '_i7': 'getSlope(getY,x0=0.5)',\n",
       " '_7': 2.899999999916858,\n",
       " '_i8': 'def getY(x): return x**2 + 1\\ndef getZ(x): return 5.5 * x**3 + 1\\n\\ndef getSlope(getFunc, x0, dx = 1.e-6):\\n    \"\"\"This returns the slope of the tangent line to the function at x0\"\"\"\\n    return (getFunc(x0 + dx / 2) - getFunc(x0 - dx / 2)) / dx',\n",
       " 'getZ': <function __main__.getZ(x)>,\n",
       " '_i9': 'getSlope(getY,x0=0.5)',\n",
       " '_9': 1.000000000139778,\n",
       " '_i10': 'getSlope(getY)',\n",
       " '_i11': '#def getY(x): return x**2 + 1\\ndef getZ(x): return 5.5 * x**3 + 1\\n\\ndef getSlope(getFunc, x0, dx = 1.e-6):\\n    \"\"\"This returns the slope of the tangent line to the function at x0\"\"\"\\n    return (getFunc(x0 + dx / 2) - getFunc(x0 - dx / 2)) / dx',\n",
       " '_i12': 'getSlope(lambnda:  return x**2 + 1, x0=0.5)',\n",
       " '_i13': 'getSlope(lambnda: return x**2 + 1, x0=0.5)',\n",
       " '_i14': 'getSlope(lambda: return x**2 + 1, x0=0.5)',\n",
       " '_i15': 'getSlope(lambda return x**2 + 1, x0=0.5)',\n",
       " '_i16': 'getSlope(lambda: return x**2 + 1, x0=0.5)',\n",
       " '_i17': 'getSlope(lambda: return x**2 + 1, x0=0.5)',\n",
       " '_i18': 'getSlope(lambda: return x ** 2 + 1, x0=0.5)',\n",
       " '_i19': 'getSlope(lambda: return x ** 2 + 1, x0 = 0.5)',\n",
       " '_i20': 'getSlope(lambda: return (x ** 2 + 1), x0 = 0.5)',\n",
       " '_i21': 'global()',\n",
       " '_i22': 'globals()'}"
      ]
     },
     "execution_count": 22,
     "metadata": {},
     "output_type": "execute_result"
    }
   ],
   "source": [
    "globals()"
   ]
  },
  {
   "cell_type": "markdown",
   "metadata": {},
   "source": [
    "Searching for specific variables use: **globals()['term']**"
   ]
  },
  {
   "cell_type": "markdown",
   "metadata": {},
   "source": [
    "### Recursive functions  \n",
    "  \n",
    "Instead of writing the function like this..."
   ]
  },
  {
   "cell_type": "code",
   "execution_count": 55,
   "metadata": {},
   "outputs": [],
   "source": [
    "def getFactorial(n):\n",
    "    if n>0:\n",
    "        factorial=n\n",
    "        for i in range(n-1,0,-1):\n",
    "            factorial*= i\n",
    "        return factorial\n",
    "    elif n==0:\n",
    "        return 1\n",
    "    else:\n",
    "        print(\"Cannot be zero!\")"
   ]
  },
  {
   "cell_type": "code",
   "execution_count": 56,
   "metadata": {},
   "outputs": [
    {
     "data": {
      "text/plain": [
       "120"
      ]
     },
     "execution_count": 56,
     "metadata": {},
     "output_type": "execute_result"
    }
   ],
   "source": [
    "getFactorial(5)"
   ]
  },
  {
   "cell_type": "markdown",
   "metadata": {},
   "source": [
    "Use recursive calls"
   ]
  },
  {
   "cell_type": "code",
   "execution_count": 60,
   "metadata": {},
   "outputs": [],
   "source": [
    "def getFactorial(n):\n",
    "    if n>0:\n",
    "        return n * getFactorial(n-1)\n",
    "    elif n == 0:\n",
    "        return 1\n",
    "    else:\n",
    "        print(\"Number must be greater than 0!\")"
   ]
  },
  {
   "cell_type": "code",
   "execution_count": 64,
   "metadata": {},
   "outputs": [
    {
     "data": {
      "text/plain": [
       "3628800"
      ]
     },
     "execution_count": 64,
     "metadata": {},
     "output_type": "execute_result"
    }
   ],
   "source": [
    "getFactorial(10)"
   ]
  },
  {
   "cell_type": "code",
   "execution_count": null,
   "metadata": {},
   "outputs": [],
   "source": []
  }
 ],
 "metadata": {
  "kernelspec": {
   "display_name": "Python 3",
   "language": "python",
   "name": "python3"
  },
  "language_info": {
   "codemirror_mode": {
    "name": "ipython",
    "version": 3
   },
   "file_extension": ".py",
   "mimetype": "text/x-python",
   "name": "python",
   "nbconvert_exporter": "python",
   "pygments_lexer": "ipython3",
   "version": "3.7.1"
  }
 },
 "nbformat": 4,
 "nbformat_minor": 2
}
