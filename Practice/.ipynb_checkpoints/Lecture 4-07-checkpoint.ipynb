{
 "cells": [
  {
   "cell_type": "markdown",
   "metadata": {},
   "source": [
    "### Passing objects thru scripts"
   ]
  },
  {
   "cell_type": "code",
   "execution_count": 3,
   "metadata": {},
   "outputs": [
    {
     "ename": "ValueError",
     "evalue": "could not convert string to float: 'C:\\\\Users\\\\butte\\\\AppData\\\\Roaming\\\\jupyter\\\\runtime\\\\kernel-62963d4d-64b0-4e39-a756-824b582b31a7.json'",
     "output_type": "error",
     "traceback": [
      "\u001b[1;31m---------------------------------------------------------------------------\u001b[0m",
      "\u001b[1;31mValueError\u001b[0m                                Traceback (most recent call last)",
      "\u001b[1;32m<ipython-input-3-59aa6c6f9384>\u001b[0m in \u001b[0;36m<module>\u001b[1;34m\u001b[0m\n\u001b[0;32m      5\u001b[0m \u001b[1;32mfor\u001b[0m \u001b[0mi\u001b[0m \u001b[1;32min\u001b[0m \u001b[0mrange\u001b[0m\u001b[1;33m(\u001b[0m\u001b[1;36m1\u001b[0m\u001b[1;33m,\u001b[0m \u001b[0mlen\u001b[0m\u001b[1;33m(\u001b[0m\u001b[0msys\u001b[0m\u001b[1;33m.\u001b[0m\u001b[0margv\u001b[0m\u001b[1;33m[\u001b[0m\u001b[1;36m1\u001b[0m\u001b[1;33m:\u001b[0m\u001b[1;33m]\u001b[0m\u001b[1;33m)\u001b[0m\u001b[1;33m+\u001b[0m\u001b[1;36m1\u001b[0m\u001b[1;33m,\u001b[0m \u001b[1;36m2\u001b[0m\u001b[1;33m)\u001b[0m\u001b[1;33m:\u001b[0m\u001b[1;33m\u001b[0m\u001b[1;33m\u001b[0m\u001b[0m\n\u001b[0;32m      6\u001b[0m         \u001b[1;32mif\u001b[0m \u001b[0msys\u001b[0m\u001b[1;33m.\u001b[0m\u001b[0margv\u001b[0m\u001b[1;33m[\u001b[0m\u001b[0mi\u001b[0m\u001b[1;33m]\u001b[0m \u001b[1;33m!=\u001b[0m \u001b[1;34m\"unit\"\u001b[0m\u001b[1;33m:\u001b[0m\u001b[1;33m\u001b[0m\u001b[1;33m\u001b[0m\u001b[0m\n\u001b[1;32m----> 7\u001b[1;33m                 \u001b[0moption\u001b[0m\u001b[1;33m[\u001b[0m\u001b[0msys\u001b[0m\u001b[1;33m.\u001b[0m\u001b[0margv\u001b[0m\u001b[1;33m[\u001b[0m\u001b[0mi\u001b[0m\u001b[1;33m]\u001b[0m\u001b[1;33m]\u001b[0m \u001b[1;33m=\u001b[0m \u001b[0mfloat\u001b[0m\u001b[1;33m(\u001b[0m\u001b[0msys\u001b[0m\u001b[1;33m.\u001b[0m\u001b[0margv\u001b[0m\u001b[1;33m[\u001b[0m\u001b[0mi\u001b[0m\u001b[1;33m+\u001b[0m\u001b[1;36m1\u001b[0m\u001b[1;33m]\u001b[0m\u001b[1;33m)\u001b[0m\u001b[1;33m\u001b[0m\u001b[1;33m\u001b[0m\u001b[0m\n\u001b[0m\u001b[0;32m      8\u001b[0m         \u001b[1;32melse\u001b[0m\u001b[1;33m:\u001b[0m\u001b[1;33m\u001b[0m\u001b[1;33m\u001b[0m\u001b[0m\n\u001b[0;32m      9\u001b[0m                 \u001b[0moption\u001b[0m\u001b[1;33m[\u001b[0m\u001b[0msys\u001b[0m\u001b[1;33m.\u001b[0m\u001b[0margv\u001b[0m\u001b[1;33m[\u001b[0m\u001b[0mi\u001b[0m\u001b[1;33m]\u001b[0m\u001b[1;33m]\u001b[0m \u001b[1;33m=\u001b[0m \u001b[0msys\u001b[0m\u001b[1;33m.\u001b[0m\u001b[0margv\u001b[0m\u001b[1;33m[\u001b[0m\u001b[0mi\u001b[0m\u001b[1;33m+\u001b[0m\u001b[1;36m1\u001b[0m\u001b[1;33m]\u001b[0m\u001b[1;33m\u001b[0m\u001b[1;33m\u001b[0m\u001b[0m\n",
      "\u001b[1;31mValueError\u001b[0m: could not convert string to float: 'C:\\\\Users\\\\butte\\\\AppData\\\\Roaming\\\\jupyter\\\\runtime\\\\kernel-62963d4d-64b0-4e39-a756-824b582b31a7.json'"
     ]
    }
   ],
   "source": [
    "import sys\n",
    "\n",
    "option = dict()\n",
    "\n",
    "for i in range(1, len(sys.argv[1:])+1, 2):\n",
    "\tif sys.argv[i] != \"unit\":\n",
    "\t\toption[sys.argv[i]] = float(sys.argv[i+1])\n",
    "\telse:\n",
    "\t\toption[sys.argv[i]] = sys.argv[i+1]\n",
    "\n",
    "# setup default values\n",
    "if \"initHeight\" not in option.keys(): option[\"initHeight\"] = 0\n",
    "if \"initVelocity\" not in option.keys(): option[\"initVelocity\"] = 0\n",
    "if \"unit\" not in option.keys(): option[\"unit\"] = \"SI\"\n",
    "if \"gravityConstant\" not in option.keys(): option[\"gravityConstant\"] = -10\n",
    "\n",
    "#unit  = \"SI\"\n",
    "#initHeight = 0\n",
    "#initVelocity = 0\n",
    "#time = 3\n",
    "#gravityConstant = -1.62\n",
    "\n",
    "finalHeight = option[\"initHeight\"] \\\n",
    "\t\t\t+ option[\"initVelocity\"] * option[\"time\"] \\\n",
    "\t\t\t+ 0.5 * option[\"gravityConstant\"] * option[\"time\"]**2\n",
    "print(\"Final Height = {} in {} units\".format(finalHeight,option[\"unit\"]))\n",
    "\t\n"
   ]
  },
  {
   "cell_type": "markdown",
   "metadata": {},
   "source": [
    "### Error/Exception Handling"
   ]
  },
  {
   "cell_type": "markdown",
   "metadata": {},
   "source": [
    "Here we added a help function for the script and keyword for the user to call"
   ]
  },
  {
   "cell_type": "code",
   "execution_count": 13,
   "metadata": {},
   "outputs": [
    {
     "ename": "ValueError",
     "evalue": "could not convert string to float: 'C:\\\\Users\\\\butte\\\\AppData\\\\Roaming\\\\jupyter\\\\runtime\\\\kernel-62963d4d-64b0-4e39-a756-824b582b31a7.json'",
     "output_type": "error",
     "traceback": [
      "\u001b[1;31m---------------------------------------------------------------------------\u001b[0m",
      "\u001b[1;31mValueError\u001b[0m                                Traceback (most recent call last)",
      "\u001b[1;32m<ipython-input-13-437a885e0091>\u001b[0m in \u001b[0;36m<module>\u001b[1;34m\u001b[0m\n\u001b[0;32m     14\u001b[0m         \u001b[0msys\u001b[0m\u001b[1;33m.\u001b[0m\u001b[0mexit\u001b[0m\u001b[1;33m(\u001b[0m\u001b[1;36m0\u001b[0m\u001b[1;33m)\u001b[0m \u001b[1;31m#when you return 0 to the shell/OS, the program exited successfully. 1 returns fatal error\u001b[0m\u001b[1;33m\u001b[0m\u001b[1;33m\u001b[0m\u001b[0m\n\u001b[0;32m     15\u001b[0m     \u001b[1;32mif\u001b[0m \u001b[0msys\u001b[0m\u001b[1;33m.\u001b[0m\u001b[0margv\u001b[0m\u001b[1;33m[\u001b[0m\u001b[0mi\u001b[0m\u001b[1;33m]\u001b[0m \u001b[1;33m!=\u001b[0m \u001b[1;34m\"unit\"\u001b[0m\u001b[1;33m:\u001b[0m\u001b[1;33m\u001b[0m\u001b[1;33m\u001b[0m\u001b[0m\n\u001b[1;32m---> 16\u001b[1;33m         \u001b[0moption\u001b[0m\u001b[1;33m[\u001b[0m\u001b[0msys\u001b[0m\u001b[1;33m.\u001b[0m\u001b[0margv\u001b[0m\u001b[1;33m[\u001b[0m\u001b[0mi\u001b[0m\u001b[1;33m]\u001b[0m\u001b[1;33m]\u001b[0m \u001b[1;33m=\u001b[0m \u001b[0mfloat\u001b[0m\u001b[1;33m(\u001b[0m\u001b[0msys\u001b[0m\u001b[1;33m.\u001b[0m\u001b[0margv\u001b[0m\u001b[1;33m[\u001b[0m\u001b[0mi\u001b[0m\u001b[1;33m+\u001b[0m\u001b[1;36m1\u001b[0m\u001b[1;33m]\u001b[0m\u001b[1;33m)\u001b[0m\u001b[1;33m\u001b[0m\u001b[1;33m\u001b[0m\u001b[0m\n\u001b[0m\u001b[0;32m     17\u001b[0m     \u001b[1;32melse\u001b[0m\u001b[1;33m:\u001b[0m\u001b[1;33m\u001b[0m\u001b[1;33m\u001b[0m\u001b[0m\n\u001b[0;32m     18\u001b[0m         \u001b[0moption\u001b[0m\u001b[1;33m[\u001b[0m\u001b[0msys\u001b[0m\u001b[1;33m.\u001b[0m\u001b[0margv\u001b[0m\u001b[1;33m[\u001b[0m\u001b[0mi\u001b[0m\u001b[1;33m]\u001b[0m\u001b[1;33m]\u001b[0m \u001b[1;33m=\u001b[0m \u001b[0msys\u001b[0m\u001b[1;33m.\u001b[0m\u001b[0margv\u001b[0m\u001b[1;33m[\u001b[0m\u001b[0mi\u001b[0m\u001b[1;33m+\u001b[0m\u001b[1;36m1\u001b[0m\u001b[1;33m]\u001b[0m\u001b[1;33m\u001b[0m\u001b[1;33m\u001b[0m\u001b[0m\n",
      "\u001b[1;31mValueError\u001b[0m: could not convert string to float: 'C:\\\\Users\\\\butte\\\\AppData\\\\Roaming\\\\jupyter\\\\runtime\\\\kernel-62963d4d-64b0-4e39-a756-824b582b31a7.json'"
     ]
    }
   ],
   "source": [
    "import sys\n",
    "\n",
    "def _help():\n",
    "    print('''This script calaculates the height traveled by a projectile in y-direction under free fall \n",
    "            or with initial velcotiy.\n",
    "                 Example:\n",
    "                        python getheight.py unit SI initHeight 0 initVelocity 0 time 3 gravityConstant -10''')\n",
    "\n",
    "option = dict()\n",
    "\n",
    "for i in range(1, len(sys.argv[1:])+1, 2):\n",
    "    if 'help' in sys.argv[i]: \n",
    "        _help()\n",
    "        sys.exit(0) #when you return 0 to the shell/OS, the program exited successfully. 1 returns fatal error\n",
    "    if sys.argv[i] != \"unit\":\n",
    "        option[sys.argv[i]] = float(sys.argv[i+1])\n",
    "    else:\n",
    "        option[sys.argv[i]] = sys.argv[i+1]\n",
    "\n",
    "# setup default values\n",
    "if \"initHeight\" not in option.keys(): option[\"initHeight\"] = 0\n",
    "if \"initVelocity\" not in option.keys(): option[\"initVelocity\"] = 0\n",
    "if \"unit\" not in option.keys(): option[\"unit\"] = \"SI\"\n",
    "if \"gravityConstant\" not in option.keys(): option[\"gravityConstant\"] = -10\n",
    "\n",
    "#unit  = \"SI\"\n",
    "#initHeight = 0\n",
    "#initVelocity = 0\n",
    "#time = 3\n",
    "#gravityConstant = -1.62\n",
    "\n",
    "finalHeight = option[\"initHeight\"] \\\n",
    "\t\t\t+ option[\"initVelocity\"] * option[\"time\"] \\\n",
    "\t\t\t+ 0.5 * option[\"gravityConstant\"] * option[\"time\"]**2\n",
    "print(\"Final Height = {} in {} units\".format(finalHeight,option[\"unit\"]))\n",
    "\t\n"
   ]
  },
  {
   "cell_type": "markdown",
   "metadata": {},
   "source": [
    "#### adding some exception handling"
   ]
  },
  {
   "cell_type": "code",
   "execution_count": null,
   "metadata": {},
   "outputs": [],
   "source": [
    "import sys\n",
    "\n",
    "def _help():\n",
    "    print('''This script calaculates the height traveled by a projectile in y-direction under free fall \n",
    "            or with initial velcotiy.\n",
    "                 Example:\n",
    "                        python getheight.py unit SI initHeight 0 initVelocity 0 time 3 gravityConstant -10''')\n",
    "\n",
    "option = dict()\n",
    "\n",
    "for i in range(1, len(sys.argv[1:])+1, 2):\n",
    "    if 'help' in sys.argv[i]: \n",
    "        _help()\n",
    "        sys.exit(0) #when you return 0 to the shell/OS, the program exited successfully. 1 returns fatal error\n",
    "    if sys.argv[i] != \"unit\":\n",
    "         try:\n",
    "                option[sys.argv[i]] = float(sys.argv[i+1])\n",
    "        except: \n",
    "            raise Exception('''You have entered an innappropriate value for input value {}.\n",
    "Time must be a float.''')\n",
    "        option[sys.argv[i]] = float(sys.argv[i+1])\n",
    "    else:\n",
    "        option[sys.argv[i]] = sys.argv[i+1]\n",
    "\n",
    "# setup default values\n",
    "if \"initHeight\" not in option.keys(): option[\"initHeight\"] = 0\n",
    "if \"initVelocity\" not in option.keys(): option[\"initVelocity\"] = 0\n",
    "if \"unit\" not in option.keys(): option[\"unit\"] = \"SI\"\n",
    "if \"gravityConstant\" not in option.keys(): option[\"gravityConstant\"] = -10\n",
    "\n",
    "#unit  = \"SI\"\n",
    "#initHeight = 0\n",
    "#initVelocity = 0\n",
    "#time = 3\n",
    "#gravityConstant = -1.62\n",
    "\n",
    "finalHeight = option[\"initHeight\"] \\\n",
    "\t\t\t+ option[\"initVelocity\"] * option[\"time\"] \\\n",
    "\t\t\t+ 0.5 * option[\"gravityConstant\"] * option[\"time\"]**2\n",
    "print(\"Final Height = {} in {} units\".format(finalHeight,option[\"unit\"]))\n",
    "\t\n"
   ]
  }
 ],
 "metadata": {
  "kernelspec": {
   "display_name": "Python 3",
   "language": "python",
   "name": "python3"
  },
  "language_info": {
   "codemirror_mode": {
    "name": "ipython",
    "version": 3
   },
   "file_extension": ".py",
   "mimetype": "text/x-python",
   "name": "python",
   "nbconvert_exporter": "python",
   "pygments_lexer": "ipython3",
   "version": "3.7.1"
  }
 },
 "nbformat": 4,
 "nbformat_minor": 2
}
