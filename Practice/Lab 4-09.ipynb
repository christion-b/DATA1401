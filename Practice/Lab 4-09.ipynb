{
 "cells": [
  {
   "cell_type": "markdown",
   "metadata": {},
   "source": [
    "## Homework Help"
   ]
  },
  {
   "cell_type": "markdown",
   "metadata": {},
   "source": [
    "#### Command line summation"
   ]
  },
  {
   "cell_type": "code",
   "execution_count": 28,
   "metadata": {},
   "outputs": [
    {
     "data": {
      "text/plain": [
       "50"
      ]
     },
     "execution_count": 28,
     "metadata": {},
     "output_type": "execute_result"
    }
   ],
   "source": [
    "b = ['5','45']\n",
    "def sumList(list):\n",
    "    add='+'.join(list)\n",
    "    return eval(add)\n",
    "sumList(b)"
   ]
  },
  {
   "cell_type": "markdown",
   "metadata": {},
   "source": [
    "#### Parsing amino acid"
   ]
  },
  {
   "cell_type": "code",
   "execution_count": 32,
   "metadata": {},
   "outputs": [],
   "source": [
    "data=[[1,2,3],[-565,-457]]\n",
    "with open('formatted_output.txt','w') as outfile:\n",
    "    #format here\n",
    "    for row in data:\n",
    "        #loop over columns\n",
    "        for col in row:\n",
    "            outfile.write(str(col)+ ', ')\n",
    "        outfile.write('\\n')"
   ]
  },
  {
   "cell_type": "code",
   "execution_count": 33,
   "metadata": {},
   "outputs": [],
   "source": [
    "data=[[1,2,3],[-565,-457]]\n",
    "with open('formatted_output2.txt','w') as outfile:\n",
    "    #format here\n",
    "    for row in data:\n",
    "        #loop over columns\n",
    "        for col in row:\n",
    "            #14 char bits, 8 digits of percision with float format\n",
    "            outfile.write('{:14.8f}'.format(col,'christion'))\n",
    "        outfile.write('\\n')"
   ]
  },
  {
   "cell_type": "code",
   "execution_count": 46,
   "metadata": {},
   "outputs": [],
   "source": [
    "#dictionary\n",
    "aminoAcidExposure={'A': 129.0, 'R': 274.0, 'N': 195.0,'D': 193.0,'C': 167.0,\n",
    "                   'Q': 225.0,'E': 223.0,'G': 104.0,'H': 224.0,'I': 197.0,'L': 201.0,\n",
    "                   'K': 236.0,'M': 224.0,'F': 240.0,'P': 159.0,'S': 155.0,'T': 172.0,'W': 285.0,'Y': 263.0,'V': 174.0}\n",
    "\n",
    "#def function(inFile,outFile):"
   ]
  },
  {
   "cell_type": "code",
   "execution_count": 41,
   "metadata": {},
   "outputs": [
    {
     "data": {
      "text/plain": [
       "('testOutput.txt', <http.client.HTTPMessage at 0x22bbeb03400>)"
      ]
     },
     "execution_count": 41,
     "metadata": {},
     "output_type": "execute_result"
    }
   ],
   "source": [
    "'''Retreave the date from the web instead of downloading file!'''\n",
    "import urllib.request as url\n",
    "inFile='testOutput.txt'\n",
    "myUrl = \"https://www.cdslab.org/recipes/programming/data-transfer-amino-acid/1A2T_A.dssp\"\n",
    "url.urlretrieve(myUrl,inFile)"
   ]
  },
  {
   "cell_type": "code",
   "execution_count": null,
   "metadata": {},
   "outputs": [],
   "source": []
  }
 ],
 "metadata": {
  "kernelspec": {
   "display_name": "Python 3",
   "language": "python",
   "name": "python3"
  },
  "language_info": {
   "codemirror_mode": {
    "name": "ipython",
    "version": 3
   },
   "file_extension": ".py",
   "mimetype": "text/x-python",
   "name": "python",
   "nbconvert_exporter": "python",
   "pygments_lexer": "ipython3",
   "version": "3.7.1"
  }
 },
 "nbformat": 4,
 "nbformat_minor": 2
}
