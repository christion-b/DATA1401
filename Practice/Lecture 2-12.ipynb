{
 "cells": [
  {
   "cell_type": "markdown",
   "metadata": {},
   "source": [
    "## Files\n",
    "Add this to file to make it a standalone executable by python:\n",
    "_#!/usr/env python3_\n",
    "\n",
    "**Permissions:**\n",
    "* X: executable\n",
    "* R: readable \n",
    "* W: writable"
   ]
  },
  {
   "cell_type": "markdown",
   "metadata": {},
   "source": [
    "## Functions/Methods\n",
    "\n",
    "Checking the data type\n",
    "- type()\n",
    "- .isDigit()"
   ]
  },
  {
   "cell_type": "code",
   "execution_count": 19,
   "metadata": {},
   "outputs": [
    {
     "data": {
      "text/plain": [
       "int"
      ]
     },
     "execution_count": 19,
     "metadata": {},
     "output_type": "execute_result"
    }
   ],
   "source": [
    "a=67;\n",
    "b=\"True\"\n",
    "\n",
    "type(a)"
   ]
  },
  {
   "cell_type": "code",
   "execution_count": 16,
   "metadata": {},
   "outputs": [
    {
     "data": {
      "text/plain": [
       "str"
      ]
     },
     "execution_count": 16,
     "metadata": {},
     "output_type": "execute_result"
    }
   ],
   "source": [
    "a=67;\n",
    "b=\"True\"\n",
    "\n",
    "type(b)"
   ]
  },
  {
   "cell_type": "markdown",
   "metadata": {},
   "source": [
    "### Format string output\n",
    "\n",
    "Use [ <index> : <index> ]"
   ]
  },
  {
   "cell_type": "code",
   "execution_count": 18,
   "metadata": {},
   "outputs": [
    {
     "data": {
      "text/plain": [
       "'Christion'"
      ]
     },
     "execution_count": 18,
     "metadata": {},
     "output_type": "execute_result"
    }
   ],
   "source": [
    "\"Christion Butterworth\"[0:9]"
   ]
  },
  {
   "cell_type": "markdown",
   "metadata": {},
   "source": [
    "File extension and naming"
   ]
  },
  {
   "cell_type": "code",
   "execution_count": 30,
   "metadata": {},
   "outputs": [
    {
     "name": "stdout",
     "output_type": "stream",
     "text": [
      "Input the Python file name: main.py\n",
      "\n",
      "The input Python file name is: main\n",
      "The input Python file extension is: .py\n",
      "\n"
     ]
    }
   ],
   "source": [
    "python_full_file_name = input(\"Input the Python file name: \")\n",
    "python_file_name = python_full_file_name[0:-3]\n",
    "python_file_ext = python_full_file_name[-3:]\n",
    "\n",
    "#output\n",
    "print(\"\"\"\n",
    "The input Python file name is: {}\n",
    "The input Python file extension is: {}\n",
    "\"\"\".format(python_file_name, python_file_ext)\n",
    ") # docstring"
   ]
  },
  {
   "cell_type": "markdown",
   "metadata": {},
   "source": [
    "### User Input"
   ]
  },
  {
   "cell_type": "code",
   "execution_count": 26,
   "metadata": {},
   "outputs": [
    {
     "name": "stdout",
     "output_type": "stream",
     "text": [
      "Type name: Joe Rogan\n",
      "Your name is Joe Rogan\n"
     ]
    }
   ],
   "source": [
    "name = input(\"Type name: \");\n",
    "print(\"Your name is\",name);"
   ]
  },
  {
   "cell_type": "markdown",
   "metadata": {},
   "source": [
    "Camel case is perfectly fine but then snake method is generally perfered in Python.\n",
    "<br/>this_is_snake_case"
   ]
  }
 ],
 "metadata": {
  "kernelspec": {
   "display_name": "Python 3",
   "language": "python",
   "name": "python3"
  },
  "language_info": {
   "codemirror_mode": {
    "name": "ipython",
    "version": 3
   },
   "file_extension": ".py",
   "mimetype": "text/x-python",
   "name": "python",
   "nbconvert_exporter": "python",
   "pygments_lexer": "ipython3",
   "version": "3.7.1"
  }
 },
 "nbformat": 4,
 "nbformat_minor": 2
}
