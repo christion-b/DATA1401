{
 "cells": [
  {
   "cell_type": "markdown",
   "metadata": {},
   "source": [
    "# Modules Continued..\n",
    "\n",
    "## Writing data "
   ]
  },
  {
   "cell_type": "code",
   "execution_count": 8,
   "metadata": {},
   "outputs": [
    {
     "ename": "SyntaxError",
     "evalue": "unexpected character after line continuation character (<ipython-input-8-371f30abcc43>, line 20)",
     "output_type": "error",
     "traceback": [
      "\u001b[1;36m  File \u001b[1;32m\"<ipython-input-8-371f30abcc43>\"\u001b[1;36m, line \u001b[1;32m20\u001b[0m\n\u001b[1;33m    finalHeight=(option['initHeight']\\ + option['initVelocity'] * option['time'] \\ + 0.5 * option['gravityConstant']*option['time']**2)\u001b[0m\n\u001b[1;37m                                                                                                                                       ^\u001b[0m\n\u001b[1;31mSyntaxError\u001b[0m\u001b[1;31m:\u001b[0m unexpected character after line continuation character\n"
     ]
    }
   ],
   "source": [
    "import sys\n",
    "def velocity(initHeight,initVelocity,time):\n",
    "    #option unit, reads values and options inputed by user\n",
    "    option=dict()\n",
    "    for i in range(1,len(sys.argv[1:])+1, 2):\n",
    "        if sys.argv(i) != 'unit':\n",
    "            option[sys.argv[i]] = float(sys.argv[i+1])\n",
    "        else:\n",
    "            option[sys.argv[i]] = sys.argv[i+1]\n",
    "    #set default values               \n",
    "    '''\n",
    "    unit='SI'\n",
    "    gravityConstant = -1.62#moon gravity\n",
    "    finalHeight=0\n",
    "    initHeight=0\n",
    "    initVelocity=0\n",
    "    time=0\n",
    "    '''\n",
    "    #calculation\n",
    "    finalHeight=(option['initHeight']\\ + option['initVelocity'] * option['time'] \\ + 0.5 * option['gravityConstant']*option['time']**2)\n",
    "    print('Final Height = {} in {} units'.format(finalHeight, unit))\n",
    "velocity(5,5,3)"
   ]
  },
  {
   "cell_type": "markdown",
   "metadata": {},
   "source": [
    "###  File Handling"
   ]
  },
  {
   "cell_type": "code",
   "execution_count": 7,
   "metadata": {},
   "outputs": [
    {
     "ename": "TypeError",
     "evalue": "an integer is required (got type str)",
     "output_type": "error",
     "traceback": [
      "\u001b[1;31m---------------------------------------------------------------------------\u001b[0m",
      "\u001b[1;31mTypeError\u001b[0m                                 Traceback (most recent call last)",
      "\u001b[1;32m<ipython-input-7-e16faff14f61>\u001b[0m in \u001b[0;36m<module>\u001b[1;34m\u001b[0m\n\u001b[1;32m----> 1\u001b[1;33m \u001b[0mexample\u001b[0m \u001b[1;33m=\u001b[0m \u001b[0mopen\u001b[0m\u001b[1;33m(\u001b[0m\u001b[1;34m'../file.py'\u001b[0m\u001b[1;33m,\u001b[0m\u001b[1;34m'r'\u001b[0m\u001b[1;33m,\u001b[0m\u001b[1;34m'w'\u001b[0m\u001b[1;33m,\u001b[0m\u001b[1;34m'a'\u001b[0m\u001b[1;33m)\u001b[0m\u001b[1;33m\u001b[0m\u001b[1;33m\u001b[0m\u001b[0m\n\u001b[0m",
      "\u001b[1;31mTypeError\u001b[0m: an integer is required (got type str)"
     ]
    }
   ],
   "source": [
    "example = open('../file.py','r','w','a')"
   ]
  },
  {
   "cell_type": "markdown",
   "metadata": {},
   "source": [
    "You must close the file whenevr you open it!\n",
    "\n",
    "**../ : The peiords tell python to go up one parent folder and search for file with that specific name.**\n",
    "\n",
    "You can also add permissions such as read (r), write (w), and appened (a)"
   ]
  },
  {
   "cell_type": "code",
   "execution_count": null,
   "metadata": {},
   "outputs": [],
   "source": []
  }
 ],
 "metadata": {
  "kernelspec": {
   "display_name": "Python 3",
   "language": "python",
   "name": "python3"
  },
  "language_info": {
   "codemirror_mode": {
    "name": "ipython",
    "version": 3
   },
   "file_extension": ".py",
   "mimetype": "text/x-python",
   "name": "python",
   "nbconvert_exporter": "python",
   "pygments_lexer": "ipython3",
   "version": "3.7.1"
  }
 },
 "nbformat": 4,
 "nbformat_minor": 2
}
