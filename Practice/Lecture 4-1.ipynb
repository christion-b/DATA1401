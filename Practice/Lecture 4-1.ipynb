{
 "cells": [
  {
   "cell_type": "markdown",
   "metadata": {},
   "source": [
    "## Creating Modules"
   ]
  },
  {
   "cell_type": "markdown",
   "metadata": {},
   "source": [
    "**__ variable __** : special to python interperter. Means this is an internal implementation.\n",
    "\n",
    "use this method to remove other packages from poping up on your module."
   ]
  },
  {
   "cell_type": "code",
   "execution_count": 1,
   "metadata": {},
   "outputs": [],
   "source": [
    "__all__=['function1','function2']"
   ]
  },
  {
   "cell_type": "markdown",
   "metadata": {},
   "source": [
    "or use.."
   ]
  },
  {
   "cell_type": "code",
   "execution_count": 2,
   "metadata": {},
   "outputs": [],
   "source": [
    "import numpy as _np"
   ]
  },
  {
   "cell_type": "markdown",
   "metadata": {},
   "source": [
    "The user can still access it only if they know the name of the specific variable with '_'. This method just prevents it from showing up."
   ]
  },
  {
   "cell_type": "markdown",
   "metadata": {},
   "source": [
    "#### Make standalone script"
   ]
  },
  {
   "cell_type": "code",
   "execution_count": 34,
   "metadata": {},
   "outputs": [
    {
     "name": "stdout",
     "output_type": "stream",
     "text": [
      "hello world\n"
     ]
    }
   ],
   "source": [
    "def mainFunction():\n",
    "    print('hello world')\n",
    "def otherFunction():\n",
    "    print('second function')\n",
    "\"\"\"\n",
    "This will set a default action for python to do when the script is just called rather than being called in a \n",
    "package.\n",
    "\"\"\" \n",
    "if __name__ =='__main__': mainFunction()"
   ]
  },
  {
   "cell_type": "markdown",
   "metadata": {},
   "source": [
    "#### Command line settings\n",
    "This will assign an operation when a user calls from the command line and varies depending on number of input arguments"
   ]
  },
  {
   "cell_type": "code",
   "execution_count": 33,
   "metadata": {},
   "outputs": [
    {
     "name": "stdout",
     "output_type": "stream",
     "text": [
      "Please input 1 or 2 integers.\n"
     ]
    }
   ],
   "source": [
    "import sys\n",
    "if len(sys.argv)==1: mainFunction() #runs this if only one argument is passed\n",
    "elif len(sys.argv)==2: otherFunction() #runs if 2 arguments are passed (pass variable if needed)\n",
    "else: print('Please input 1 or 2 integers.')"
   ]
  },
  {
   "cell_type": "markdown",
   "metadata": {},
   "source": [
    "#### Make executable from GitBash"
   ]
  },
  {
   "cell_type": "code",
   "execution_count": 15,
   "metadata": {},
   "outputs": [],
   "source": [
    "#Add this to header of the code\n",
    "\n",
    "#!/usr/bin/env python"
   ]
  },
  {
   "cell_type": "markdown",
   "metadata": {},
   "source": [
    "Tells shell to run python environment from this folder to execute script. Otherwise it treats it as a bash script which is a completely diffent syntax"
   ]
  },
  {
   "cell_type": "markdown",
   "metadata": {},
   "source": [
    "#### Structure"
   ]
  },
  {
   "cell_type": "markdown",
   "metadata": {},
   "source": [
    "Packages can have nested structures which are folders that contain other code that your package may use. "
   ]
  },
  {
   "cell_type": "code",
   "execution_count": 16,
   "metadata": {},
   "outputs": [],
   "source": [
    "from numpy.random import random"
   ]
  },
  {
   "cell_type": "markdown",
   "metadata": {},
   "source": [
    "This takes the function 'random' from the random folder/loaction "
   ]
  },
  {
   "cell_type": "markdown",
   "metadata": {},
   "source": [
    "#### Init file\n",
    "\n",
    "Not manditory but great to have. Python will create one if not made"
   ]
  },
  {
   "cell_type": "code",
   "execution_count": null,
   "metadata": {},
   "outputs": [],
   "source": [
    "'''You can give brief description of the function here'''\n",
    "from ."
   ]
  },
  {
   "cell_type": "markdown",
   "metadata": {},
   "source": [
    "#### Module Example"
   ]
  },
  {
   "cell_type": "markdown",
   "metadata": {},
   "source": [
    "##### Init FIle"
   ]
  },
  {
   "cell_type": "code",
   "execution_count": 3,
   "metadata": {},
   "outputs": [
    {
     "ename": "ModuleNotFoundError",
     "evalue": "No module named '__main__.fib'; '__main__' is not a package",
     "output_type": "error",
     "traceback": [
      "\u001b[1;31m---------------------------------------------------------------------------\u001b[0m",
      "\u001b[1;31mModuleNotFoundError\u001b[0m                       Traceback (most recent call last)",
      "\u001b[1;32m<ipython-input-3-49bc5c74eacb>\u001b[0m in \u001b[0;36m<module>\u001b[1;34m\u001b[0m\n\u001b[0;32m      4\u001b[0m \"\"\"\n\u001b[0;32m      5\u001b[0m \u001b[1;33m\u001b[0m\u001b[0m\n\u001b[1;32m----> 6\u001b[1;33m \u001b[1;32mfrom\u001b[0m \u001b[1;33m.\u001b[0m \u001b[0mfib\u001b[0m \u001b[1;32mimport\u001b[0m \u001b[0mfibl\u001b[0m\u001b[1;33m,\u001b[0m \u001b[0mfibr\u001b[0m\u001b[1;33m,\u001b[0m \u001b[0mpi\u001b[0m\u001b[1;33m\u001b[0m\u001b[1;33m\u001b[0m\u001b[0m\n\u001b[0m",
      "\u001b[1;31mModuleNotFoundError\u001b[0m: No module named '__main__.fib'; '__main__' is not a package"
     ]
    }
   ],
   "source": [
    "\"\"\"\n",
    "This is a Python package for computing Fibonacci sequence using either \n",
    "loops or recursive functions.\n",
    "\"\"\"\n",
    "\n",
    "from . fib import fibl, fibr, pi"
   ]
  },
  {
   "cell_type": "markdown",
   "metadata": {},
   "source": [
    "#### Write script as file and write a seperate '__init__.py'  \n",
    "**Fibbonacci Script**"
   ]
  },
  {
   "cell_type": "code",
   "execution_count": 1,
   "metadata": {},
   "outputs": [
    {
     "name": "stdout",
     "output_type": "stream",
     "text": [
      "\n",
      "        Please enter only one input argument that is an integer. Example Usage:\n",
      "\n",
      "            ./fib.py 13\n",
      "\n",
      "        \n"
     ]
    }
   ],
   "source": [
    "#!/usr/bin/env python\n",
    "\n",
    "\n",
    "import numpy as _np\n",
    "pi = _np.pi\n",
    "\"\"\"\n",
    "This is the mathemtical number pi.\n",
    "\"\"\"\n",
    "\n",
    "def fibr(n):\n",
    "    \"\"\"\n",
    "    Get the fibonacci sequence for the input number using recursive function calls.\n",
    "    \"\"\"\n",
    "    def fibo(n_int):\n",
    "        if n_int==0: return 0\n",
    "        elif n_int==1: return 1\n",
    "        else:\n",
    "            return fibo(n_int-1) + fibo(n_int-2)\n",
    "\n",
    "    if n=='stop':\n",
    "        return None\n",
    "    elif not str(n).isdigit():    # Make sure n is integer, if not then\n",
    "        print( 'The input argument {} is not a non-negative integer!'.format(n) )    \n",
    "        n = input(\"Please enter an integer: \")  # Note that n is read as string!\n",
    "        return fibr(n)\n",
    "    else:\n",
    "        n=int(n) \n",
    "        print('Fib({}) = {}'.format(n,fibo(n)))\n",
    "        n = input(\"Please enter another integer or type stop: \")  # Note that n is read as string!\n",
    "        return fibr(n)\n",
    "\n",
    "\n",
    "import time as _time\n",
    "import numpy as _np\n",
    "\n",
    "def fibl():\n",
    "    \"\"\"\n",
    "    Get the fibonacci sequence for the input number using loop.\n",
    "    \"\"\"\n",
    "    def fibo(n_int):\n",
    "        if n_int > 1:\n",
    "            FibSeq = _np.zeros(n_int+1)\n",
    "            FibSeq[0] = 0;\n",
    "            FibSeq[1] = 1;\n",
    "            for iseq in range(2,n_int+1):\n",
    "                FibSeq[iseq] = FibSeq[iseq-1] + FibSeq[iseq-2];\n",
    "            fib = FibSeq[n_int]\n",
    "        elif n_int == 1:\n",
    "            fib = 1\n",
    "        else:\n",
    "            fib = 0\n",
    "        return int(fib)\n",
    "\n",
    "    n = input('Please enter a non-negative integer or type stop: ')\n",
    "    if n==\"stop\":\n",
    "        return None\n",
    "    else:\n",
    "        n = int(n);\n",
    "        tstart = _time.process_time()\n",
    "        print( \"fib({}) = {}\".format(n,fibo(n)) );\n",
    "        tend = _time.process_time()\n",
    "        print( \"average runtime: {} seconds\".format(tend-tstart) );\n",
    "        fibl()\n",
    "        return None\n",
    "\n",
    "def _help():\n",
    "    print(\"\"\"\n",
    "        Please enter only one input argument that is an integer. Example Usage:\n",
    "\n",
    "            ./fib.py 13\n",
    "\n",
    "        \"\"\")\n",
    "\n",
    "if __name__ == \"__main__\":\n",
    "    import sys\n",
    "    if len(sys.argv) == 1:\n",
    "        print(\"calling the loop fibl({})\")\n",
    "        fibl()\n",
    "    elif len(sys.argv) == 2:\n",
    "        print(\"calling the recursive fibr({})\".format(sys.argv[1]))\n",
    "        if not sys.argv[1].isdigit():\n",
    "            _help()\n",
    "        else:\n",
    "            fibr(n = int(sys.argv[1]))\n",
    "    else:\n",
    "        _help()"
   ]
  },
  {
   "cell_type": "code",
   "execution_count": null,
   "metadata": {},
   "outputs": [],
   "source": []
  }
 ],
 "metadata": {
  "kernelspec": {
   "display_name": "Python 3",
   "language": "python",
   "name": "python3"
  },
  "language_info": {
   "codemirror_mode": {
    "name": "ipython",
    "version": 3
   },
   "file_extension": ".py",
   "mimetype": "text/x-python",
   "name": "python",
   "nbconvert_exporter": "python",
   "pygments_lexer": "ipython3",
   "version": "3.7.1"
  }
 },
 "nbformat": 4,
 "nbformat_minor": 2
}
