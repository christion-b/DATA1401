{
 "cells": [
  {
   "cell_type": "markdown",
   "metadata": {},
   "source": [
    "## 1)\n",
    "    \n",
    "    Recursion\n",
    "    \n",
    "## 2)"
   ]
  },
  {
   "cell_type": "code",
   "execution_count": 2,
   "metadata": {},
   "outputs": [
    {
     "data": {
      "text/plain": [
       "[1, 1, 2, 2, 3, 3, 4, 4, 5]"
      ]
     },
     "execution_count": 2,
     "metadata": {},
     "output_type": "execute_result"
    }
   ],
   "source": [
    "def sort(array):\n",
    "    def recSort(list, sortedList):\n",
    "        newList=[]\n",
    "        if len(list)==0:\n",
    "            return sortedList\n",
    "        else:\n",
    "            n=min(list)\n",
    "            list.remove(n)\n",
    "            newList.append(n)\n",
    "            return recSort(list, sortedList+newList)\n",
    "    return recSort(array,[])\n",
    "sort([1,2,3,4,5,4,3,2,1])"
   ]
  },
  {
   "cell_type": "code",
   "execution_count": null,
   "metadata": {},
   "outputs": [],
   "source": []
  }
 ],
 "metadata": {
  "kernelspec": {
   "display_name": "Python 3",
   "language": "python",
   "name": "python3"
  }
 },
 "nbformat": 4,
 "nbformat_minor": 2
}
