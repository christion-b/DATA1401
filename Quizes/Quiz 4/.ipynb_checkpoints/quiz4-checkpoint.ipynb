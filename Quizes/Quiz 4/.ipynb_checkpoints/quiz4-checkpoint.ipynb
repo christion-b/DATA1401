{
 "cells": [
  {
   "cell_type": "markdown",
   "metadata": {},
   "source": [
    "## 1)\n",
    "    \n",
    "    Recursion\n",
    "    \n",
    "## 2)"
   ]
  },
  {
   "cell_type": "code",
   "execution_count": 11,
   "metadata": {},
   "outputs": [
    {
     "data": {
      "text/plain": [
       "[1, 2, 2, 3, 5, 23, 78]"
      ]
     },
     "execution_count": 11,
     "metadata": {},
     "output_type": "execute_result"
    }
   ],
   "source": [
    "def sort(array):\n",
    "    def recursiveSort(listToSort, sortedList):\n",
    "        newList=[]\n",
    "        if len(listToSort)==0:\n",
    "            return sortedList\n",
    "        else:\n",
    "            n=min(listToSort)\n",
    "            listToSort.remove(n)\n",
    "            newList.append(n)\n",
    "            return recursiveSort(listToSort, sortedList+newList)\n",
    "    return recursiveSort(array,[])\n",
    "sort([2,1,3,78,23,5,2])"
   ]
  },
  {
   "cell_type": "code",
   "execution_count": null,
   "metadata": {},
   "outputs": [],
   "source": []
  }
 ],
 "metadata": {
  "kernelspec": {
   "display_name": "Python 3",
   "language": "python",
   "name": "python3"
  }
 },
 "nbformat": 4,
 "nbformat_minor": 2
}
