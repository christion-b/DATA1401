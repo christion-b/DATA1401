{
 "cells": [
  {
   "cell_type": "markdown",
   "metadata": {},
   "source": [
    "## 1)\n",
    "    \n",
    "    Recursion\n",
    "    \n",
    "## 2)"
   ]
  },
  {
   "cell_type": "code",
   "execution_count": 5,
   "metadata": {},
   "outputs": [
    {
     "data": {
      "text/plain": [
       "[1, 1, 2, 2, 3, 3, 4, 4, 5]"
      ]
     },
     "execution_count": 5,
     "metadata": {},
     "output_type": "execute_result"
    }
   ],
   "source": [
    "def sort(array):\n",
    "    def recursiveSort(listToSort, sortedList):\n",
    "        newList=[]\n",
    "        if len(listToSort)==0:\n",
    "            return sortedList\n",
    "        else:\n",
    "            n=min(listToSort)\n",
    "            listToSort.remove(n)\n",
    "            newList.append(n)\n",
    "            return recursiveSort(listToSort, sortedList+newList)\n",
    "    return recursiveSort(array,[])\n",
    "sort([1,2,3,4,5,4,3,2,1])"
   ]
  },
  {
   "cell_type": "code",
   "execution_count": null,
   "metadata": {},
   "outputs": [],
   "source": []
  }
 ],
 "metadata": {
  "kernelspec": {
   "display_name": "Python 3",
   "language": "python",
   "name": "python3"
  }
 },
 "nbformat": 4,
 "nbformat_minor": 2
}
