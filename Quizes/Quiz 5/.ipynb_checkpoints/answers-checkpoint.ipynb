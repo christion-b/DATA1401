{
 "cells": [
  {
   "cell_type": "code",
   "execution_count": 7,
   "metadata": {},
   "outputs": [],
   "source": [
    "import urllib.request as url\n",
    "inFile='html.txt'\n",
    "outFile='nasa.swift.grb.ids.txt'\n",
    "myUrl = \"https://cdslaborg.github.io/DataRepos_SwiftBat/index.html\"\n",
    "url.urlretrieve(myUrl,inFile)\n",
    "\n",
    "with open('html.txt','r') as data:\n",
    "    line=data.readline()\n",
    "    ids=open('nasa.swift.grb.ids.txt','w')\n",
    "    \n",
    "    \n",
    "data.close()\n",
    "ids.close()"
   ]
  },
  {
   "cell_type": "code",
   "execution_count": null,
   "metadata": {},
   "outputs": [],
   "source": []
  }
 ],
 "metadata": {
  "kernelspec": {
   "display_name": "Python 3",
   "language": "python",
   "name": "python3"
  }
 },
 "nbformat": 4,
 "nbformat_minor": 2
}
